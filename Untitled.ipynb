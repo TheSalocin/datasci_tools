{
 "cells": [
  {
   "cell_type": "code",
   "execution_count": 1,
   "id": "2c1acb7c-8a6e-4969-97c6-048577bf27af",
   "metadata": {},
   "outputs": [],
   "source": [
    "import pypandoc"
   ]
  },
  {
   "cell_type": "code",
   "execution_count": 2,
   "id": "3c67224e-9e5a-45db-ab4f-16c69d13ace9",
   "metadata": {},
   "outputs": [],
   "source": [
    "def get_long_description(filepath='README.md'):\n",
    "    try:\n",
    "        import pypandoc\n",
    "    except:\n",
    "        raise Exception(\"Need to install pypandoc (and if havent done so install apt-get install pandoc)\")\n",
    "        \n",
    "    long_description = pypandoc.convert_file(filepath, 'rst')        \n",
    "    return long_description"
   ]
  },
  {
   "cell_type": "code",
   "execution_count": 3,
   "id": "3d6c9389-0544-40e1-abee-20b697e8c99f",
   "metadata": {},
   "outputs": [
    {
     "data": {
      "text/plain": [
       "'datasci\\\\_tools\\n==============\\n\\nModules to help faciliatate basic python programming and wrappers for\\ncommon packages (numpy, matplotib, scipy, pandas, networkx, etc.)\\n'"
      ]
     },
     "execution_count": 3,
     "metadata": {},
     "output_type": "execute_result"
    }
   ],
   "source": [
    "get_long_description()"
   ]
  },
  {
   "cell_type": "code",
   "execution_count": null,
   "id": "a87a5f25-8715-4337-ad24-7179bf67bc95",
   "metadata": {},
   "outputs": [],
   "source": []
  }
 ],
 "metadata": {
  "kernelspec": {
   "display_name": "Python 3 (ipykernel)",
   "language": "python",
   "name": "python3"
  },
  "language_info": {
   "codemirror_mode": {
    "name": "ipython",
    "version": 3
   },
   "file_extension": ".py",
   "mimetype": "text/x-python",
   "name": "python",
   "nbconvert_exporter": "python",
   "pygments_lexer": "ipython3",
   "version": "3.8.0"
  }
 },
 "nbformat": 4,
 "nbformat_minor": 5
}
