{
 "cells": [
  {
   "cell_type": "code",
   "execution_count": 1,
   "metadata": {},
   "outputs": [],
   "source": [
    "%load_ext autoreload\n",
    "%autoreload 2"
   ]
  },
  {
   "cell_type": "code",
   "execution_count": null,
   "metadata": {},
   "outputs": [],
   "source": [
    "import python_tools"
   ]
  },
  {
   "cell_type": "code",
   "execution_count": 6,
   "metadata": {},
   "outputs": [],
   "source": [
    "from python_tools import numpy_utils as nu\n",
    "from python_tools import pandas_utils as pu"
   ]
  },
  {
   "cell_type": "code",
   "execution_count": 3,
   "metadata": {},
   "outputs": [],
   "source": [
    "from python_tools import package_utils as pku"
   ]
  },
  {
   "cell_type": "code",
   "execution_count": null,
   "metadata": {},
   "outputs": [],
   "source": [
    "from os import sys\n",
    "sys.path.append(\"/python_tools/python_tools/\")"
   ]
  },
  {
   "cell_type": "code",
   "execution_count": null,
   "metadata": {},
   "outputs": [],
   "source": [
    "from python_tools import numpy_utils as nu"
   ]
  },
  {
   "cell_type": "markdown",
   "metadata": {},
   "source": [
    "# Purpose: Do a mass replacement of the names"
   ]
  },
  {
   "cell_type": "code",
   "execution_count": null,
   "metadata": {},
   "outputs": [],
   "source": [
    "from pathlib import Path\n",
    "from python_tools import pathlib_utils as pu\n",
    "p = Path(\"/python_tools/python_tools/\")\n",
    "files = pu.py_files(p,return_stem = False)\n",
    "files"
   ]
  },
  {
   "cell_type": "code",
   "execution_count": null,
   "metadata": {},
   "outputs": [],
   "source": [
    "\"\"\"\n",
    "Purpose: Want to replace \n",
    "\"\"\"\n",
    "\n",
    "import package_utils as pku\n",
    "\n",
    "pku.prefix_module_imports_in_files(\n",
    "    filepaths = files,#\"/python_tools/python_tools/numpy_utils.py\",\n",
    "    modules_directory = \"../python_tools\",\n",
    "    modules = None,\n",
    "    prefix = \"from python_tools \",\n",
    "    overwrite_file = True,\n",
    "    output_filepath = None,# \"text_revised.txt\",\n",
    "    verbose = True,\n",
    "    ignore_files = [\"__init__\"],\n",
    ")"
   ]
  },
  {
   "cell_type": "markdown",
   "metadata": {},
   "source": [
    "# Do A Cleaning up of the modules"
   ]
  },
  {
   "cell_type": "code",
   "execution_count": 69,
   "metadata": {},
   "outputs": [
    {
     "data": {
      "text/plain": [
       "[PosixPath('/python_tools/python_tools/filtering_utils.py'),\n",
       " PosixPath('/python_tools/python_tools/json_utils.py'),\n",
       " PosixPath('/python_tools/python_tools/matplotlib_utils.py'),\n",
       " PosixPath('/python_tools/python_tools/statistics_visualizations.py'),\n",
       " PosixPath('/python_tools/python_tools/requirement_utils.py'),\n",
       " PosixPath('/python_tools/python_tools/networkx_utils.py'),\n",
       " PosixPath('/python_tools/python_tools/pretty_print_confusion_matrix.py'),\n",
       " PosixPath('/python_tools/python_tools/numpy_utils.py'),\n",
       " PosixPath('/python_tools/python_tools/ipyvolume_movie_utils.py'),\n",
       " PosixPath('/python_tools/python_tools/dict_utils.py'),\n",
       " PosixPath('/python_tools/python_tools/regex_utils.py'),\n",
       " PosixPath('/python_tools/python_tools/hash_utils.py'),\n",
       " PosixPath('/python_tools/python_tools/statistics_utils.py'),\n",
       " PosixPath('/python_tools/python_tools/general_utils.py'),\n",
       " PosixPath('/python_tools/python_tools/string_utils.py'),\n",
       " PosixPath('/python_tools/python_tools/algorithms_utils.py'),\n",
       " PosixPath('/python_tools/python_tools/ipyvolume_utils.py'),\n",
       " PosixPath('/python_tools/python_tools/pandas_utils.py'),\n",
       " PosixPath('/python_tools/python_tools/pathlib_utils.py'),\n",
       " PosixPath('/python_tools/python_tools/system_utils.py'),\n",
       " PosixPath('/python_tools/python_tools/package_utils.py'),\n",
       " PosixPath('/python_tools/python_tools/scipy_utils.py'),\n",
       " PosixPath('/python_tools/python_tools/seaborn_utils.py'),\n",
       " PosixPath('/python_tools/python_tools/matlab_utils.py'),\n",
       " PosixPath('/python_tools/python_tools/argparse_utils.py'),\n",
       " PosixPath('/python_tools/python_tools/function_utils.py'),\n",
       " PosixPath('/python_tools/python_tools/file_utils.py'),\n",
       " PosixPath('/python_tools/python_tools/data_struct_utils.py'),\n",
       " PosixPath('/python_tools/python_tools/linalg_utils.py'),\n",
       " PosixPath('/python_tools/python_tools/widget_utils.py'),\n",
       " PosixPath('/python_tools/python_tools/dj_utils.py'),\n",
       " PosixPath('/python_tools/python_tools/tqdm_utils.py'),\n",
       " PosixPath('/python_tools/python_tools/mesh_utils.py'),\n",
       " PosixPath('/python_tools/python_tools/__init__.py')]"
      ]
     },
     "execution_count": 69,
     "metadata": {},
     "output_type": "execute_result"
    }
   ],
   "source": [
    "from pathlib import Path\n",
    "from python_tools import pathlib_utils as pu\n",
    "p = Path(\"/python_tools/python_tools/\")\n",
    "files = pu.py_files(p,return_stem = False)\n",
    "files"
   ]
  },
  {
   "cell_type": "code",
   "execution_count": 74,
   "metadata": {},
   "outputs": [
    {
     "name": "stdout",
     "output_type": "stream",
     "text": [
      "# of matches (unique = True) = 21\n",
      "# of substitutions = 43\n",
      "  --> output_filepath = /python_tools/python_tools/networkx_utils_replaced.py\n"
     ]
    },
    {
     "data": {
      "text/plain": [
       "'/python_tools/python_tools/networkx_utils_replaced.py'"
      ]
     },
     "execution_count": 74,
     "metadata": {},
     "output_type": "execute_result"
    }
   ],
   "source": [
    "filu.clean_module_imports(\n",
    "    filename  = \"/python_tools/python_tools/networkx_utils.py\",\n",
    "    overwrite_file = False,\n",
    "    verbose = True,\n",
    "    relative_package = \"python_tools\",\n",
    "    relative_replacement = \".\",\n",
    ")"
   ]
  },
  {
   "cell_type": "code",
   "execution_count": null,
   "metadata": {},
   "outputs": [],
   "source": [
    "from python_tools import file_utils as filu\n",
    "    for f in files:\n",
    "        filu.clean_module_imports(\n",
    "            filename  = f,\n",
    "            overwrite_file = True,\n",
    "            verbose = True,\n",
    "            relative_package = \"python_tools\",\n",
    "            relative_replacement = \".\",\n",
    "        )"
   ]
  },
  {
   "cell_type": "code",
   "execution_count": 70,
   "metadata": {},
   "outputs": [
    {
     "name": "stdout",
     "output_type": "stream",
     "text": [
      "tqdm found in ../python_tools/filtering_utils.py\n",
      "tqdm found in ../python_tools/requirement_utils.py\n",
      "tqdm found in ../python_tools/networkx_utils.py\n",
      "    Wasn't able to read ../python_tools/numpy_utils.py\n",
      "    Wasn't able to read ../python_tools/ipyvolume_utils.py\n",
      "tqdm found in ../python_tools/pandas_utils.py\n",
      "tqdm found in ../python_tools/pathlib_utils.py\n",
      "tqdm found in ../python_tools/system_utils.py\n",
      "tqdm found in ../python_tools/tqdm_utils.py\n"
     ]
    },
    {
     "data": {
      "text/plain": [
       "['../python_tools/filtering_utils.py',\n",
       " '../python_tools/requirement_utils.py',\n",
       " '../python_tools/networkx_utils.py',\n",
       " '../python_tools/pandas_utils.py',\n",
       " '../python_tools/pathlib_utils.py',\n",
       " '../python_tools/system_utils.py',\n",
       " '../python_tools/tqdm_utils.py']"
      ]
     },
     "execution_count": 70,
     "metadata": {},
     "output_type": "execute_result"
    }
   ],
   "source": [
    "filu.search_directory_files_for_str(\"../python_tools/\",search_str=\"tqdm\")"
   ]
  },
  {
   "cell_type": "code",
   "execution_count": null,
   "metadata": {},
   "outputs": [],
   "source": []
  },
  {
   "cell_type": "code",
   "execution_count": null,
   "metadata": {},
   "outputs": [],
   "source": [
    "\"pattern = (?<!from python_tools )(import (filtering_utils|pandas_utils_replaced|json_utils|matplotlib_utils|statistics_visualizations|requirement_utils|networkx_utils|pretty_print_confusion_matrix|numpy_utils|ipyvolume_movie_utils|dict_utils|regex_utils|hash_utils|statistics_utils|general_utils|string_utils|algorithms_utils|ipyvolume_utils|pandas_utils|pathlib_utils|system_utils|package_utils|scipy_utils|seaborn_utils|matlab_utils|argparse_utils|function_utils|file_utils|data_struct_utils|linalg_utils|widget_utils|dj_utils|tqdm_utils|mesh_utils))\""
   ]
  },
  {
   "cell_type": "markdown",
   "metadata": {},
   "source": [
    "# Manual Mass Replacement"
   ]
  },
  {
   "cell_type": "code",
   "execution_count": null,
   "metadata": {},
   "outputs": [],
   "source": [
    "from python_tools import file_utils as filu\n",
    "for f in files:\n",
    "    filu.file_regex_replace(\n",
    "        filepath=f,\n",
    "        pattern = \"from tqdm_utils import tqdm\",\n",
    "        replacement = \"from python_tools.tqdm_utils import tqdm\",\n",
    "        overwrite_file = True,\n",
    "        verbose = True\n",
    "    )"
   ]
  },
  {
   "cell_type": "code",
   "execution_count": null,
   "metadata": {},
   "outputs": [],
   "source": []
  },
  {
   "cell_type": "code",
   "execution_count": 68,
   "metadata": {},
   "outputs": [
    {
     "data": {
      "text/plain": [
       "'/python_tools/python_tools/numpy_utils_replaced.py'"
      ]
     },
     "execution_count": 68,
     "metadata": {},
     "output_type": "execute_result"
    }
   ],
   "source": [
    "filu.clean_module_imports(\n",
    "    filename  = f\"/python_tools/python_tools/numpy_utils.py\",\n",
    "    overwrite_file = False,\n",
    "    verbose = False,\n",
    "    relative_package = \"python_tools\",\n",
    "    relative_replacement = \".\",\n",
    ")"
   ]
  },
  {
   "cell_type": "code",
   "execution_count": 55,
   "metadata": {},
   "outputs": [
    {
     "data": {
      "text/plain": [
       "['from python_tools import numpy_utils']"
      ]
     },
     "execution_count": 55,
     "metadata": {},
     "output_type": "execute_result"
    }
   ],
   "source": [
    "ending_import"
   ]
  },
  {
   "cell_type": "code",
   "execution_count": 58,
   "metadata": {},
   "outputs": [],
   "source": [
    "#re.findall(re.compile(filu.import_pattern_str()),data)"
   ]
  },
  {
   "cell_type": "code",
   "execution_count": 62,
   "metadata": {},
   "outputs": [
    {
     "name": "stdout",
     "output_type": "stream",
     "text": [
      "# of substitutions = 25\n",
      "  --> output_filepath = /python_tools/python_tools/numpy_utils_replaced.py\n"
     ]
    }
   ],
   "source": [
    "filu.file_regex_replace(\n",
    "    filepath=filename,\n",
    "    pattern = filu.import_pattern_str(beginning_of_line = True),\n",
    "    replacement = \"\\n#\" + r\"\\1\",\n",
    "    overwrite_file = False,\n",
    "    verbose = True\n",
    ")"
   ]
  },
  {
   "cell_type": "code",
   "execution_count": 12,
   "metadata": {},
   "outputs": [
    {
     "data": {
      "text/plain": [
       "['filtering_utils',\n",
       " 'json_utils',\n",
       " 'matplotlib_utils',\n",
       " 'statistics_visualizations',\n",
       " 'requirement_utils',\n",
       " 'networkx_utils',\n",
       " 'pretty_print_confusion_matrix',\n",
       " 'numpy_utils',\n",
       " 'ipyvolume_movie_utils',\n",
       " 'dict_utils',\n",
       " 'regex_utils',\n",
       " 'hash_utils',\n",
       " 'statistics_utils',\n",
       " 'general_utils',\n",
       " 'string_utils',\n",
       " 'algorithms_utils',\n",
       " 'ipyvolume_utils',\n",
       " 'pandas_utils',\n",
       " 'pathlib_utils',\n",
       " 'system_utils',\n",
       " 'package_utils',\n",
       " 'scipy_utils',\n",
       " 'seaborn_utils',\n",
       " 'matlab_utils',\n",
       " 'argparse_utils',\n",
       " 'function_utils',\n",
       " 'file_utils',\n",
       " 'data_struct_utils',\n",
       " 'linalg_utils',\n",
       " 'widget_utils',\n",
       " 'dj_utils',\n",
       " 'tqdm_utils',\n",
       " 'mesh_utils']"
      ]
     },
     "execution_count": 12,
     "metadata": {},
     "output_type": "execute_result"
    }
   ],
   "source": [
    "from python_tools import package_utils as pku\n",
    "pku.module_names_from_directories(\"/python_tools/python_tools\")"
   ]
  },
  {
   "cell_type": "code",
   "execution_count": 18,
   "metadata": {},
   "outputs": [
    {
     "name": "stdout",
     "output_type": "stream",
     "text": [
      "\n",
      "Hello there \n",
      "Yolo is this_anything \n",
      "_importpackage_name\n"
     ]
    },
    {
     "data": {
      "text/plain": [
       "()"
      ]
     },
     "execution_count": 18,
     "metadata": {},
     "output_type": "execute_result"
    }
   ],
   "source": [
    "import regex as re\n",
    "string = \"\\nHello there \\nYolo is this_anything \\n_importpackage_name\"\n",
    "print(string)\n",
    "pattern = re.compile(\"\\n(?:[a-zA-Z]+)\")\n",
    "finds = list(re.finditer(pattern,string))\n",
    "finds[0].groups()"
   ]
  },
  {
   "cell_type": "code",
   "execution_count": 38,
   "metadata": {},
   "outputs": [
    {
     "name": "stdout",
     "output_type": "stream",
     "text": [
      "# of matches (unique = True) = 18\n"
     ]
    },
    {
     "data": {
      "text/plain": [
       "['import time',\n",
       " 'import trimesh',\n",
       " 'from pykdtree.kdtree import KDTree',\n",
       " 'import itertools',\n",
       " 'from shapely.geometry import LineString',\n",
       " 'from scipy.spatial.distance import pdist',\n",
       " 'from python_tools import networkx_utils',\n",
       " 'import datetime',\n",
       " 'from shapely.geometry import Point',\n",
       " 'from python_tools import pandas_utils',\n",
       " 'import pandas',\n",
       " 'from functools import reduce',\n",
       " 'from python_tools import numpy_utils',\n",
       " 'import math',\n",
       " 'from pathlib import Path',\n",
       " 'import scipy.spatial',\n",
       " 'import networkx',\n",
       " 'from scipy import stats']"
      ]
     },
     "execution_count": 38,
     "metadata": {},
     "output_type": "execute_result"
    }
   ],
   "source": [
    "from python_tools import file_utils as filu\n",
    "\n",
    "finds = filu.find_import_modules_in_file(\n",
    "    filename  = f\"/python_tools/python_tools/numpy_utils.py\",\n",
    "    unique = True,\n",
    "    verbose = True,\n",
    "    beginning_of_line = True,\n",
    ")\n",
    "\n",
    "finds"
   ]
  },
  {
   "cell_type": "code",
   "execution_count": 29,
   "metadata": {},
   "outputs": [
    {
     "data": {
      "text/plain": [
       "66202"
      ]
     },
     "execution_count": 29,
     "metadata": {},
     "output_type": "execute_result"
    }
   ],
   "source": [
    "f.start()"
   ]
  },
  {
   "cell_type": "code",
   "execution_count": 31,
   "metadata": {},
   "outputs": [
    {
     "data": {
      "text/plain": [
       "'from python_tools import numpy_utils'"
      ]
     },
     "execution_count": 31,
     "metadata": {},
     "output_type": "execute_result"
    }
   ],
   "source": [
    "f.string[f.start():f.end()][1:]"
   ]
  },
  {
   "cell_type": "code",
   "execution_count": 32,
   "metadata": {},
   "outputs": [
    {
     "name": "stdout",
     "output_type": "stream",
     "text": [
      "import networkx\n",
      "import time\n",
      "import trimesh\n",
      "from pathlib import Path\n",
      "from scipy.spatial.distance import pdist\n",
      "import scipy.spatial\n",
      "from scipy.spatial.distance import pdist\n",
      "import time\n",
      "from functools import reduce\n",
      "import trimesh\n",
      "import itertools\n",
      "from scipy import stats\n",
      "import datetime\n",
      "from pykdtree.kdtree import KDTree\n",
      "import math\n",
      "import itertools\n",
      "import itertools\n",
      "from scipy import stats\n",
      "from scipy import stats\n",
      "from shapely.geometry import LineString\n",
      "from shapely.geometry import Point\n",
      "import pandas\n",
      "from python_tools import pandas_utils\n",
      "from python_tools import networkx_utils\n",
      "from python_tools import numpy_utils\n"
     ]
    }
   ],
   "source": [
    "imports\n",
    "for f in finds:\n",
    "    print(f.string[f.start():f.end()][1:])"
   ]
  },
  {
   "cell_type": "code",
   "execution_count": null,
   "metadata": {},
   "outputs": [],
   "source": []
  },
  {
   "cell_type": "code",
   "execution_count": null,
   "metadata": {},
   "outputs": [],
   "source": [
    "filu.file_regex_replace(\n",
    "        filepath=\"/python_tools/python_tools/pandas_utils.py\",\n",
    "        pattern = \"from python_tools \",\n",
    "        replacement = \"import \",\n",
    "        overwrite_file = False,\n",
    "        verbose = True\n",
    "    )"
   ]
  },
  {
   "cell_type": "markdown",
   "metadata": {},
   "source": [
    "# Fixing mistakes"
   ]
  },
  {
   "cell_type": "code",
   "execution_count": null,
   "metadata": {},
   "outputs": [],
   "source": [
    "from python_tools import file_utils as filu\n",
    "for f in files:\n",
    "    filu.file_regex_replace(\n",
    "        filepath=f,\n",
    "        pattern = \"from tqdm_utils import tqdm\",\n",
    "        replacement = \"from python_tools.tqdm_utils import tqdm\",\n",
    "        overwrite_file = True,\n",
    "        verbose = True\n",
    "    )"
   ]
  },
  {
   "cell_type": "code",
   "execution_count": null,
   "metadata": {},
   "outputs": [],
   "source": [
    "import regex_utils as ru\n",
    "import regex as re"
   ]
  },
  {
   "cell_type": "code",
   "execution_count": null,
   "metadata": {},
   "outputs": [],
   "source": [
    "s_find[0].groups()[0]"
   ]
  },
  {
   "cell_type": "code",
   "execution_count": null,
   "metadata": {},
   "outputs": [],
   "source": [
    "string = \"hello there make sure to match\"\n",
    "pattern = r\"(?<!there)(make (sure))\"\n",
    "pattern = re.compile(pattern)\n",
    "s_find = list(pattern.finditer(string))\n",
    "s_find[0]"
   ]
  },
  {
   "cell_type": "code",
   "execution_count": null,
   "metadata": {},
   "outputs": [],
   "source": [
    "\"\"\"\n",
    "Have an option of what to place in front of it:\n",
    "- \"from . \"\n",
    "- \"from package_name \"\n",
    "- have a dictionary that maps the current files to \n",
    "the right prefix\n",
    "\"\"\""
   ]
  },
  {
   "cell_type": "code",
   "execution_count": null,
   "metadata": {},
   "outputs": [],
   "source": [
    "from pathlib import Path\n",
    "p = Path(\"./test.txt\")\n",
    "p.stem,p.suffix"
   ]
  },
  {
   "cell_type": "code",
   "execution_count": null,
   "metadata": {},
   "outputs": [],
   "source": [
    "import re\n",
    "from pathlib import Path\n",
    "\n",
    "\n",
    "def file_regex_replace(\n",
    "    pattern,\n",
    "    replacement,\n",
    "    filepath,\n",
    "    overwrite_file = False,\n",
    "    output_filepath = None,# \"text_revised.txt\",\n",
    "    default_suffix = \"_replaced\",\n",
    "    verbose = False,\n",
    "    regex = True,\n",
    "    ):\n",
    "    \"\"\"\n",
    "    Purpose: To replace certain text \n",
    "    in a file and either write changes\n",
    "    back to same file or to a new one\n",
    "\n",
    "    Pseudocode:\n",
    "    1) open the file\n",
    "    2) read in the contents of the file\n",
    "    3) using the regex replace function (with potential to use captured groups)\n",
    "    \"\"\"\n",
    "    if overwrite_file:\n",
    "        output_filepath = filepath\n",
    "    \n",
    "    if output_filepath is None:\n",
    "        p = Path(filepath)\n",
    "        output_filepath = f\"{p.stem}{default_suffix}{p.suffix}\"\n",
    "\n",
    "\n",
    "    # Opening our text file in read only\n",
    "    # mode using the open() function\n",
    "    with open(filepath, 'r') as file:\n",
    "        data = file.read()\n",
    "\n",
    "        # Searching and replacing the text\n",
    "        # using the replace() function\n",
    "        if regex:\n",
    "            data,count = re.subn(pattern, replacement, data)\n",
    "            if verbose:\n",
    "                print(f\"# of substitutions = {count}\")\n",
    "        else:\n",
    "            data = data.replace(pattern,replacement)\n",
    "\n",
    "    # Opening our text file in write only\n",
    "    # mode to write the replaced content\n",
    "    with open(output_filepath, 'w') as file:\n",
    "\n",
    "        # Writing the replaced data in our\n",
    "        # text file\n",
    "        file.write(data)\n",
    "        \n",
    "    #return output_file"
   ]
  },
  {
   "cell_type": "code",
   "execution_count": null,
   "metadata": {},
   "outputs": [],
   "source": [
    "file_regex_replace(\n",
    "    pattern = r\"(hello|this)\",\n",
    "    replacement = r\"new \\1\",\n",
    "    filepath = \"test.txt\",\n",
    "    verbose = True,\n",
    "    overwrite_file = True\n",
    ")"
   ]
  },
  {
   "cell_type": "code",
   "execution_count": null,
   "metadata": {},
   "outputs": [],
   "source": [
    "from os import sys\n",
    "sys.path.append(\"/python_tools/python_tools/\")"
   ]
  },
  {
   "cell_type": "code",
   "execution_count": null,
   "metadata": {},
   "outputs": [],
   "source": [
    "import numpy_utils_replaced as nur"
   ]
  },
  {
   "cell_type": "code",
   "execution_count": null,
   "metadata": {},
   "outputs": [],
   "source": []
  },
  {
   "cell_type": "code",
   "execution_count": null,
   "metadata": {},
   "outputs": [],
   "source": [
    "import file_utils as filu\n",
    "def file_regex_add_prefix(\n",
    "    pattern,\n",
    "    prefix,\n",
    "    filepath,\n",
    "    overwrite_file = False,\n",
    "    output_filepath = None,# \"text_revised.txt\",\n",
    "    default_suffix = \"_replaced\",\n",
    "    verbose = False,\n",
    "    regex = True,\n",
    "    **kwargs,\n",
    "    ):\n",
    "    \"\"\"\n",
    "    Purpose: Add a prefix in front of certain patterns in file\n",
    "    \"\"\"\n",
    "\n",
    "    return filu.file_regex_replace(\n",
    "        pattern = pattern,\n",
    "        replacement = fr\"{prefix}\" + r\"\\1\",\n",
    "        filepath=filepath,\n",
    "        overwrite_file = overwrite_file,\n",
    "        output_filepath = output_filepath,# \"text_revised.txt\",\n",
    "        default_suffix = default_suffix,\n",
    "        verbose = verbose,\n",
    "        regex = regex,\n",
    "        **kwargs\n",
    "    )"
   ]
  },
  {
   "cell_type": "code",
   "execution_count": null,
   "metadata": {},
   "outputs": [],
   "source": [
    "filu.file_regex_add_prefix(\n",
    "    pattern = \"(new hello)\",\n",
    "    prefix = \"from . \",\n",
    "    filepath = \"test.txt\",\n",
    "    overwrite_file=True,\n",
    "    verbose = True\n",
    ")"
   ]
  },
  {
   "cell_type": "code",
   "execution_count": null,
   "metadata": {},
   "outputs": [],
   "source": [
    "import io"
   ]
  },
  {
   "cell_type": "code",
   "execution_count": null,
   "metadata": {},
   "outputs": [],
   "source": [
    "# import pathlib_utils as plu\n",
    "# import numpy_utils as nu\n",
    "# import file_utils as filu\n",
    "# import io\n",
    "\n",
    "\n",
    "# def prefix_module_imports_in_files(\n",
    "#     filepaths,\n",
    "#     modules_directory = \"../python_tools\",\n",
    "#     modules = None,\n",
    "#     prefix = \"from . \",\n",
    "#     overwrite_file = False,\n",
    "#     output_filepath = None,# \"text_revised.txt\",\n",
    "#     verbose = False,\n",
    "#     ignore_files = [\"__init__\"],\n",
    "#     ):\n",
    "# \"\"\"\n",
    "# want to add a prefixes before\n",
    "# modules that are imported in a file\n",
    "\n",
    "# Pseudocode: \n",
    "# 1) if given a directory: get a list of the module names\n",
    "# 2) Construct a regex pattern ORing the potential list\n",
    "# 3) add the prefix before\n",
    "# 4) write to a new file or old file\n",
    "\n",
    "# \"\"\"\n",
    "\n",
    "# #1) if given a directory: get a list of the module names\n",
    "# if modules is None:\n",
    "    \n",
    "#     modules_directory = nu.to_list(modules_directory)\n",
    "#     modules = []\n",
    "    \n",
    "#     for directory in modules_directory:\n",
    "        \n",
    "#         if verbose:\n",
    "#             print(f\"--Getting files from {directory}\")\n",
    "            \n",
    "#         modules += plu.files_of_ext_type(\n",
    "#             directory = directory,\n",
    "#             ext = \"py\",\n",
    "#             verbose = verbose\n",
    "#         )\n",
    "# else:\n",
    "#     modules = [Path(k) for k in nu.to_list(modules)]\n",
    "\n",
    "# modules = [k.stem for k in modules if k.stem not in ignore_files]\n",
    "\n",
    "# #2) Construct a regex pattern ORing the potential list\n",
    "# pattern = f\"(import ({'|'.join(modules)}))\"\n",
    "# #replacement = fr\"{prefix} import \\1\"\n",
    "\n",
    "# filepaths = nu.to_list(filepaths)\n",
    "\n",
    "# #4) write to a new file or old file\n",
    "# for f in filepaths:\n",
    "#     if verbose:\n",
    "#         print(f\"--- Working on file: {f}\")\n",
    "#     filu.file_regex_add_prefix(\n",
    "#         pattern=pattern,\n",
    "#         prefix=prefix,\n",
    "#         filepath=f,\n",
    "#         overwrite_file = overwrite_file,\n",
    "#         output_filepath = output_filepath,# \"text_revised.txt\",\n",
    "#         verbose = verbose,\n",
    "#         regex = True,\n",
    "#     )\n",
    "    \n",
    "import package_utils as pku\n",
    "\n",
    "pku.prefix_module_imports_in_files(\n",
    "    filepaths = \"../python_tools/numpy_utils.py\",\n",
    "    modules_directory = \"../python_tools\",\n",
    "    modules = None,\n",
    "    prefix = \"from . \",\n",
    "    overwrite_file = False,\n",
    "    output_filepath = None,# \"text_revised.txt\",\n",
    "    verbose = True,\n",
    "    ignore_files = [\"__init__\"],\n",
    ")"
   ]
  }
 ],
 "metadata": {
  "kernelspec": {
   "display_name": "Python 3",
   "language": "python",
   "name": "python3"
  },
  "language_info": {
   "codemirror_mode": {
    "name": "ipython",
    "version": 3
   },
   "file_extension": ".py",
   "mimetype": "text/x-python",
   "name": "python",
   "nbconvert_exporter": "python",
   "pygments_lexer": "ipython3",
   "version": "3.6.9"
  }
 },
 "nbformat": 4,
 "nbformat_minor": 4
}
