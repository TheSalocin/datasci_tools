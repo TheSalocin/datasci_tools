{
 "cells": [
  {
   "cell_type": "code",
   "execution_count": 1,
   "metadata": {},
   "outputs": [],
   "source": [
    "%load_ext autoreload\n",
    "%autoreload 2"
   ]
  },
  {
   "cell_type": "code",
   "execution_count": 3,
   "metadata": {},
   "outputs": [],
   "source": [
    "from os import sys\n",
    "sys.path.append(\"/python_tools/python_tools/\")"
   ]
  },
  {
   "cell_type": "code",
   "execution_count": 4,
   "metadata": {},
   "outputs": [
    {
     "ename": "ImportError",
     "evalue": "attempted relative import with no known parent package",
     "output_type": "error",
     "traceback": [
      "\u001b[0;31m---------------------------------------------------------------------------\u001b[0m",
      "\u001b[0;31mImportError\u001b[0m                               Traceback (most recent call last)",
      "\u001b[0;32m<ipython-input-4-9b2b8f8b8de8>\u001b[0m in \u001b[0;36m<module>\u001b[0;34m\u001b[0m\n\u001b[0;32m----> 1\u001b[0;31m \u001b[0;32mimport\u001b[0m \u001b[0mnumpy_utils_replaced\u001b[0m \u001b[0;32mas\u001b[0m \u001b[0mnur\u001b[0m\u001b[0;34m\u001b[0m\u001b[0;34m\u001b[0m\u001b[0m\n\u001b[0m",
      "\u001b[0;32m/python_tools/python_tools/numpy_utils_replaced.py\u001b[0m in \u001b[0;36m<module>\u001b[0;34m\u001b[0m\n\u001b[1;32m   1973\u001b[0m \u001b[0;34m\u001b[0m\u001b[0m\n\u001b[1;32m   1974\u001b[0m \u001b[0;32mimport\u001b[0m \u001b[0mpandas\u001b[0m \u001b[0;32mas\u001b[0m \u001b[0mpd\u001b[0m\u001b[0;34m\u001b[0m\u001b[0;34m\u001b[0m\u001b[0m\n\u001b[0;32m-> 1975\u001b[0;31m \u001b[0;32mfrom\u001b[0m \u001b[0;34m.\u001b[0m \u001b[0;32mimport\u001b[0m \u001b[0mpandas_utils\u001b[0m \u001b[0;32mas\u001b[0m \u001b[0mpu\u001b[0m\u001b[0;34m\u001b[0m\u001b[0;34m\u001b[0m\u001b[0m\n\u001b[0m\u001b[1;32m   1976\u001b[0m def array_of_coordinates_and_labels_from_dict(\n\u001b[1;32m   1977\u001b[0m     \u001b[0mcoordinate_dict\u001b[0m\u001b[0;34m,\u001b[0m\u001b[0;34m\u001b[0m\u001b[0;34m\u001b[0m\u001b[0m\n",
      "\u001b[0;31mImportError\u001b[0m: attempted relative import with no known parent package"
     ]
    }
   ],
   "source": [
    "import numpy_utils_replaced as nur"
   ]
  },
  {
   "cell_type": "code",
   "execution_count": null,
   "metadata": {},
   "outputs": [],
   "source": []
  },
  {
   "cell_type": "code",
   "execution_count": null,
   "metadata": {},
   "outputs": [],
   "source": []
  },
  {
   "cell_type": "code",
   "execution_count": null,
   "metadata": {},
   "outputs": [],
   "source": [
    "from python_tools import numpy_utils as nu"
   ]
  },
  {
   "cell_type": "markdown",
   "metadata": {},
   "source": [
    "# Purpose: Do a mass replacement of the names"
   ]
  },
  {
   "cell_type": "code",
   "execution_count": null,
   "metadata": {},
   "outputs": [],
   "source": [
    "\"\"\"\n",
    "Purpose: Want to replace \n",
    "\"\"\""
   ]
  },
  {
   "cell_type": "code",
   "execution_count": null,
   "metadata": {},
   "outputs": [],
   "source": []
  },
  {
   "cell_type": "code",
   "execution_count": null,
   "metadata": {},
   "outputs": [],
   "source": [
    "\"\"\"\n",
    "Have an option of what to place in front of it:\n",
    "- \"from . \"\n",
    "- \"from package_name \"\n",
    "- have a dictionary that maps the current files to \n",
    "the right prefix\n",
    "\"\"\""
   ]
  },
  {
   "cell_type": "code",
   "execution_count": null,
   "metadata": {},
   "outputs": [],
   "source": [
    "from pathlib import Path\n",
    "p = Path(\"./test.txt\")\n",
    "p.stem,p.suffix"
   ]
  },
  {
   "cell_type": "code",
   "execution_count": null,
   "metadata": {},
   "outputs": [],
   "source": [
    "import re\n",
    "from pathlib import Path\n",
    "\n",
    "\n",
    "def file_regex_replace(\n",
    "    pattern,\n",
    "    replacement,\n",
    "    filepath,\n",
    "    overwrite_file = False,\n",
    "    output_filepath = None,# \"text_revised.txt\",\n",
    "    default_suffix = \"_replaced\",\n",
    "    verbose = False,\n",
    "    regex = True,\n",
    "    ):\n",
    "    \"\"\"\n",
    "    Purpose: To replace certain text \n",
    "    in a file and either write changes\n",
    "    back to same file or to a new one\n",
    "\n",
    "    Pseudocode:\n",
    "    1) open the file\n",
    "    2) read in the contents of the file\n",
    "    3) using the regex replace function (with potential to use captured groups)\n",
    "    \"\"\"\n",
    "    if overwrite_file:\n",
    "        output_filepath = filepath\n",
    "    \n",
    "    if output_filepath is None:\n",
    "        p = Path(filepath)\n",
    "        output_filepath = f\"{p.stem}{default_suffix}{p.suffix}\"\n",
    "\n",
    "\n",
    "    # Opening our text file in read only\n",
    "    # mode using the open() function\n",
    "    with open(filepath, 'r') as file:\n",
    "        data = file.read()\n",
    "\n",
    "        # Searching and replacing the text\n",
    "        # using the replace() function\n",
    "        if regex:\n",
    "            data,count = re.subn(pattern, replacement, data)\n",
    "            if verbose:\n",
    "                print(f\"# of substitutions = {count}\")\n",
    "        else:\n",
    "            data = data.replace(pattern,replacement)\n",
    "\n",
    "    # Opening our text file in write only\n",
    "    # mode to write the replaced content\n",
    "    with open(output_filepath, 'w') as file:\n",
    "\n",
    "        # Writing the replaced data in our\n",
    "        # text file\n",
    "        file.write(data)\n",
    "        \n",
    "    #return output_file"
   ]
  },
  {
   "cell_type": "code",
   "execution_count": null,
   "metadata": {},
   "outputs": [],
   "source": [
    "file_regex_replace(\n",
    "    pattern = r\"(hello|this)\",\n",
    "    replacement = r\"new \\1\",\n",
    "    filepath = \"test.txt\",\n",
    "    verbose = True,\n",
    "    overwrite_file = True\n",
    ")"
   ]
  },
  {
   "cell_type": "code",
   "execution_count": null,
   "metadata": {},
   "outputs": [],
   "source": [
    "from os import sys\n",
    "sys.path.append(\"/python_tools/python_tools/\")"
   ]
  },
  {
   "cell_type": "code",
   "execution_count": null,
   "metadata": {},
   "outputs": [],
   "source": [
    "import numpy_utils_replaced as nur"
   ]
  },
  {
   "cell_type": "code",
   "execution_count": null,
   "metadata": {},
   "outputs": [],
   "source": []
  },
  {
   "cell_type": "code",
   "execution_count": null,
   "metadata": {},
   "outputs": [],
   "source": [
    "import file_utils as filu\n",
    "def file_regex_add_prefix(\n",
    "    pattern,\n",
    "    prefix,\n",
    "    filepath,\n",
    "    overwrite_file = False,\n",
    "    output_filepath = None,# \"text_revised.txt\",\n",
    "    default_suffix = \"_replaced\",\n",
    "    verbose = False,\n",
    "    regex = True,\n",
    "    **kwargs,\n",
    "    ):\n",
    "    \"\"\"\n",
    "    Purpose: Add a prefix in front of certain patterns in file\n",
    "    \"\"\"\n",
    "\n",
    "    return filu.file_regex_replace(\n",
    "        pattern = pattern,\n",
    "        replacement = fr\"{prefix}\" + r\"\\1\",\n",
    "        filepath=filepath,\n",
    "        overwrite_file = overwrite_file,\n",
    "        output_filepath = output_filepath,# \"text_revised.txt\",\n",
    "        default_suffix = default_suffix,\n",
    "        verbose = verbose,\n",
    "        regex = regex,\n",
    "        **kwargs\n",
    "    )"
   ]
  },
  {
   "cell_type": "code",
   "execution_count": null,
   "metadata": {},
   "outputs": [],
   "source": [
    "filu.file_regex_add_prefix(\n",
    "    pattern = \"(new hello)\",\n",
    "    prefix = \"from . \",\n",
    "    filepath = \"test.txt\",\n",
    "    overwrite_file=True,\n",
    "    verbose = True\n",
    ")"
   ]
  },
  {
   "cell_type": "code",
   "execution_count": null,
   "metadata": {},
   "outputs": [],
   "source": [
    "import io"
   ]
  },
  {
   "cell_type": "code",
   "execution_count": 6,
   "metadata": {},
   "outputs": [
    {
     "name": "stdout",
     "output_type": "stream",
     "text": [
      "--Getting files from ../python_tools\n",
      "# of py files = 35\n",
      "--- Working on file: ../python_tools/numpy_utils.py\n",
      "# of substitutions = 14\n"
     ]
    }
   ],
   "source": [
    "# import pathlib_utils as plu\n",
    "# import numpy_utils as nu\n",
    "# import file_utils as filu\n",
    "# import io\n",
    "\n",
    "\n",
    "# def prefix_module_imports_in_files(\n",
    "#     filepaths,\n",
    "#     modules_directory = \"../python_tools\",\n",
    "#     modules = None,\n",
    "#     prefix = \"from . \",\n",
    "#     overwrite_file = False,\n",
    "#     output_filepath = None,# \"text_revised.txt\",\n",
    "#     verbose = False,\n",
    "#     ignore_files = [\"__init__\"],\n",
    "#     ):\n",
    "# \"\"\"\n",
    "# want to add a prefixes before\n",
    "# modules that are imported in a file\n",
    "\n",
    "# Pseudocode: \n",
    "# 1) if given a directory: get a list of the module names\n",
    "# 2) Construct a regex pattern ORing the potential list\n",
    "# 3) add the prefix before\n",
    "# 4) write to a new file or old file\n",
    "\n",
    "# \"\"\"\n",
    "\n",
    "# #1) if given a directory: get a list of the module names\n",
    "# if modules is None:\n",
    "    \n",
    "#     modules_directory = nu.to_list(modules_directory)\n",
    "#     modules = []\n",
    "    \n",
    "#     for directory in modules_directory:\n",
    "        \n",
    "#         if verbose:\n",
    "#             print(f\"--Getting files from {directory}\")\n",
    "            \n",
    "#         modules += plu.files_of_ext_type(\n",
    "#             directory = directory,\n",
    "#             ext = \"py\",\n",
    "#             verbose = verbose\n",
    "#         )\n",
    "# else:\n",
    "#     modules = [Path(k) for k in nu.to_list(modules)]\n",
    "\n",
    "# modules = [k.stem for k in modules if k.stem not in ignore_files]\n",
    "\n",
    "# #2) Construct a regex pattern ORing the potential list\n",
    "# pattern = f\"(import ({'|'.join(modules)}))\"\n",
    "# #replacement = fr\"{prefix} import \\1\"\n",
    "\n",
    "# filepaths = nu.to_list(filepaths)\n",
    "\n",
    "# #4) write to a new file or old file\n",
    "# for f in filepaths:\n",
    "#     if verbose:\n",
    "#         print(f\"--- Working on file: {f}\")\n",
    "#     filu.file_regex_add_prefix(\n",
    "#         pattern=pattern,\n",
    "#         prefix=prefix,\n",
    "#         filepath=f,\n",
    "#         overwrite_file = overwrite_file,\n",
    "#         output_filepath = output_filepath,# \"text_revised.txt\",\n",
    "#         verbose = verbose,\n",
    "#         regex = True,\n",
    "#     )\n",
    "    \n",
    "import package_utils as pku\n",
    "\n",
    "pku.prefix_module_imports_in_files(\n",
    "    filepaths = \"../python_tools/numpy_utils.py\",\n",
    "    modules_directory = \"../python_tools\",\n",
    "    modules = None,\n",
    "    prefix = \"from . \",\n",
    "    overwrite_file = False,\n",
    "    output_filepath = None,# \"text_revised.txt\",\n",
    "    verbose = True,\n",
    "    ignore_files = [\"__init__\"],\n",
    ")"
   ]
  }
 ],
 "metadata": {
  "kernelspec": {
   "display_name": "Python 3",
   "language": "python",
   "name": "python3"
  },
  "language_info": {
   "codemirror_mode": {
    "name": "ipython",
    "version": 3
   },
   "file_extension": ".py",
   "mimetype": "text/x-python",
   "name": "python",
   "nbconvert_exporter": "python",
   "pygments_lexer": "ipython3",
   "version": "3.6.9"
  }
 },
 "nbformat": 4,
 "nbformat_minor": 4
}
