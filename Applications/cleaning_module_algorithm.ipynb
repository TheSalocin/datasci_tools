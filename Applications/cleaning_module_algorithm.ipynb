{
 "cells": [
  {
   "cell_type": "code",
   "execution_count": 1,
   "metadata": {},
   "outputs": [],
   "source": [
    "%load_ext autoreload\n",
    "%autoreload 2"
   ]
  },
  {
   "cell_type": "code",
   "execution_count": 14,
   "metadata": {},
   "outputs": [],
   "source": [
    "from python_tools import file_utils as filu\n",
    "from python_tools import module_utils as modu\n",
    "from python_tools import inspect_utils as iu\n",
    "from python_tools import package_utils as pku\n",
    "from python_tools import pathlib_utils as plu"
   ]
  },
  {
   "cell_type": "markdown",
   "metadata": {},
   "source": [
    "# Complete process of cleaning module"
   ]
  },
  {
   "cell_type": "code",
   "execution_count": null,
   "metadata": {},
   "outputs": [],
   "source": [
    "\n",
    "\"\"\"\n",
    "Purpose: Take an unordered module file and to clean it up\n",
    "so avoids circular imports that could result in errors. And\n",
    "also make it look professional\n",
    "\n",
    "\n",
    "---- old ----\n",
    "1) Get all of the modules used\n",
    "2) Divide the modules into those referenced by outside packages and those not\n",
    "3) Get all of the member variables\n",
    "4) Get all of the doc strings\n",
    "5) Arrange in the following order:\n",
    "--------------\n",
    "\n",
    "\n",
    "1) Run the replacement to put the right qualifiers in front of a module \n",
    "using the right package\n",
    "2) Get all the docstrings and replace in the file with nothing\n",
    "3) Find all of the module at the beginning of the line\n",
    "4) Determine the package that each module came from (if it did have one)\n",
    "5) Determine the parent module (if any)\n",
    "6) Put the correct prefix in front of module if not already have it\n",
    "- and add the relative one to those inside current package\n",
    "\n",
    "--------------------------------------------\n",
    "7) Why can't go collect current variables?\n",
    "- because there could be lists  that screw up the regex\n",
    "* the variables may sometimes depend on another class (but handle those on case by case)\n",
    "--------------------------------------------\n",
    "\n",
    "8) Replace the docstrng and the modules (at the begginning of line) with empty strings\n",
    "9) write the data in following order\n",
    "- at beginning: non-referencing modules, doc strings\n",
    "- at end: referencing modules\n",
    "\n",
    "non-referencing modules\n",
    "#local veraibles\n",
    "doc strings\n",
    "rest of code\n",
    "referencing modules\n",
    "itself\n",
    "\n",
    "-- things going to think about: \n",
    "those not at the start of the line --> do not want using the dot operator\n",
    "for relative (other than that everything else should be the same)\n",
    "\"\"\""
   ]
  },
  {
   "cell_type": "code",
   "execution_count": null,
   "metadata": {},
   "outputs": [],
   "source": [
    "from python_tools import file_utils as filu\n",
    "filu.search_directory_files_for_str(\n",
    "    \"/python_tools/python_tools/\",\n",
    "    search_str=\"tqdm_utils import tqdm\"\n",
    ")"
   ]
  },
  {
   "cell_type": "code",
   "execution_count": 84,
   "metadata": {},
   "outputs": [],
   "source": [
    "filepath = \"/python_tools/python_tools/networkx_utils.py\"\n",
    "verbose = True\n",
    "overwrite = False"
   ]
  },
  {
   "cell_type": "markdown",
   "metadata": {},
   "source": [
    "# Part 0: Copy and paste document into new file if not overwrite"
   ]
  },
  {
   "cell_type": "code",
   "execution_count": 92,
   "metadata": {},
   "outputs": [
    {
     "name": "stdout",
     "output_type": "stream",
     "text": [
      "output_path = /python_tools/python_tools/networkx_utils_replaced.py\n"
     ]
    }
   ],
   "source": [
    "from pathlib import Path\n",
    "from python_tools import system_utils as su\n",
    "\n",
    "\n",
    "filepath= Path(filepath)\n",
    "\n",
    "if not overwrite:\n",
    "    output_path = filepath.parents[0] / Path(f\"{filepath.stem}_replaced{filepath.suffix}\")\n",
    "    su.copy_file(filepath,output_path)\n",
    "else:\n",
    "    output_path = filepath\n",
    "\n",
    "if verbose:\n",
    "    print(f\"output_path = {output_path}\")"
   ]
  },
  {
   "cell_type": "markdown",
   "metadata": {},
   "source": [
    "# 1) Run replacement to put right qualifiers in front of something"
   ]
  },
  {
   "cell_type": "code",
   "execution_count": 93,
   "metadata": {
    "scrolled": true
   },
   "outputs": [
    {
     "data": {
      "text/plain": [
       "['filtering_utils',\n",
       " 'json_utils',\n",
       " 'matplotlib_utils',\n",
       " 'statistics_visualizations',\n",
       " 'requirement_utils',\n",
       " 'networkx_utils',\n",
       " 'pretty_print_confusion_matrix',\n",
       " 'numpy_utils',\n",
       " 'ipyvolume_movie_utils',\n",
       " 'dict_utils',\n",
       " 'regex_utils',\n",
       " 'hash_utils',\n",
       " 'inspect_utils',\n",
       " 'statistics_utils',\n",
       " 'general_utils',\n",
       " 'string_utils',\n",
       " 'algorithms_utils',\n",
       " 'ipyvolume_utils',\n",
       " 'pandas_utils',\n",
       " 'pathlib_utils',\n",
       " 'system_utils',\n",
       " 'package_utils',\n",
       " 'scipy_utils',\n",
       " 'seaborn_utils',\n",
       " 'matlab_utils',\n",
       " 'argparse_utils',\n",
       " 'module_utils',\n",
       " 'function_utils',\n",
       " 'networkx_utils_replaced',\n",
       " 'file_utils',\n",
       " 'data_struct_utils',\n",
       " 'linalg_utils',\n",
       " 'widget_utils',\n",
       " 'dj_utils',\n",
       " 'example_re',\n",
       " 'tqdm_utils',\n",
       " 'mesh_utils']"
      ]
     },
     "execution_count": 93,
     "metadata": {},
     "output_type": "execute_result"
    }
   ],
   "source": [
    "packages = [\n",
    "    \"/python_tools/python_tools/\",\n",
    "    \"/machine_learning_tools/machine_learning_tools/\",\n",
    "    \"/pytorch_tools/pytorch_tools/\",\n",
    "    \"/graph_tools/graph_tools/\",\n",
    "    \"/meshAfterParty/meshAfterParty/\",\n",
    "    \"/neuron_morphology_tools/neuron_morphology_tools/\",\n",
    "]\n",
    "\n",
    "pkg_to_module = {k.split(\"/\")[1]:pku.module_names_from_directories(k)\n",
    "                for k in packages}\n",
    "\n",
    "directory = packages[0]\n",
    "package_name = directory.split(\"/\")[1]\n",
    "modules = pku.module_names_from_directories(directory)\n",
    "\n",
    "modules"
   ]
  },
  {
   "cell_type": "code",
   "execution_count": 99,
   "metadata": {},
   "outputs": [
    {
     "data": {
      "text/plain": [
       "'(?:(import (?:general_utils|numpy_utils) as [a-zA-Z._]+))|(?:from [a-zA-Z._]+ (import (?:general_utils|numpy_utils) as [a-zA-Z._]+))|(?:(import (?:general_utils|numpy_utils)))|(?:from [a-zA-Z._]+ (import (?:general_utils|numpy_utils)))'"
      ]
     },
     "execution_count": 99,
     "metadata": {},
     "output_type": "execute_result"
    }
   ],
   "source": [
    "easy_import_pattern"
   ]
  },
  {
   "cell_type": "code",
   "execution_count": 96,
   "metadata": {},
   "outputs": [
    {
     "data": {
      "text/plain": [
       "'(?:general_utils|numpy_utils)'"
      ]
     },
     "execution_count": 96,
     "metadata": {},
     "output_type": "execute_result"
    }
   ],
   "source": [
    "modules = [\"general_utils\",\"numpy_utils\"]\n",
    "modules_or = f\"(?:{'|'.join(modules)})\"\n",
    "modules_or"
   ]
  },
  {
   "cell_type": "code",
   "execution_count": 97,
   "metadata": {},
   "outputs": [],
   "source": [
    "from python_tools import regex_utils as ru\n",
    "from python_tools import file_utils as filu\n",
    "\n",
    "word_comb = ru.word_pattern\n",
    "modules = [\"general_utils\",\"numpy_utils\"]\n",
    "modules_or = f\"(?:{'|'.join(modules)})\"\n",
    "\n",
    "easy_import_pattern = (\n",
    "f\"(?:(import {modules_or} as {word_comb}))\"\n",
    "f\"|(?:from {word_comb} (import {modules_or} as {word_comb}))\"\n",
    "f\"|(?:(import {modules_or}))\"\n",
    "f\"|(?:from {word_comb} (import {modules_or}))\"  \n",
    ")\n",
    "\n",
    "easy_replacement = fr\"from {package_name} \\1\"\n",
    "\n",
    "# filu.file_regex_replace(\n",
    "#     pattern = easy_import_pattern,\n",
    "#     replacement = easy_replacement,\n",
    "#     filepath = output_path,\n",
    "#     overwrite_file = True,\n",
    "#     verbose = True\n",
    "# )"
   ]
  },
  {
   "cell_type": "code",
   "execution_count": 98,
   "metadata": {},
   "outputs": [
    {
     "data": {
      "text/plain": [
       "'from python_tools \\\\1'"
      ]
     },
     "execution_count": 98,
     "metadata": {},
     "output_type": "execute_result"
    }
   ],
   "source": [
    "import regex as re\n",
    "re.match"
   ]
  },
  {
   "cell_type": "code",
   "execution_count": 55,
   "metadata": {},
   "outputs": [
    {
     "data": {
      "text/plain": [
       "['from . import string_utils as stru',\n",
       " 'from .tqdm_utils import tqdm',\n",
       " 'from . import numpy_utils as nu',\n",
       " 'from . import networkx_utils as xu',\n",
       " 'from . import tqdm_utils as tqu',\n",
       " 'from . import general_utils as gu',\n",
       " 'from . import pandas_utils as pu',\n",
       " 'from . import regex_utils as ru']"
      ]
     },
     "execution_count": 55,
     "metadata": {},
     "output_type": "execute_result"
    }
   ],
   "source": [
    "modules_dir = modu.find_import_modules_in_file(\n",
    "    filepath,\n",
    "    modules = modules,\n",
    "    )\n",
    "modules_dir"
   ]
  },
  {
   "cell_type": "code",
   "execution_count": null,
   "metadata": {},
   "outputs": [],
   "source": []
  },
  {
   "cell_type": "code",
   "execution_count": null,
   "metadata": {},
   "outputs": [],
   "source": []
  },
  {
   "cell_type": "code",
   "execution_count": null,
   "metadata": {},
   "outputs": [],
   "source": []
  },
  {
   "cell_type": "code",
   "execution_count": null,
   "metadata": {},
   "outputs": [],
   "source": []
  },
  {
   "cell_type": "markdown",
   "metadata": {},
   "source": [
    "# 1) Get all of the modules used"
   ]
  },
  {
   "cell_type": "code",
   "execution_count": 38,
   "metadata": {},
   "outputs": [
    {
     "name": "stdout",
     "output_type": "stream",
     "text": [
      "# of matches (unique = True) = 21\n"
     ]
    },
    {
     "data": {
      "text/plain": [
       "['from .tqdm_utils import tqdm',\n",
       " 'import itertools',\n",
       " 'import pandas as pd',\n",
       " 'from . import general_utils as gu',\n",
       " 'import networkx.classes.function as cls_func',\n",
       " 'import numpy as np',\n",
       " 'from . import string_utils as stru',\n",
       " 'import pydot',\n",
       " 'from . import pandas_utils as pu',\n",
       " 'from . import regex_utils as ru',\n",
       " 'from copy import deepcopy',\n",
       " 'from networkx.classes.function import path_weight as pw',\n",
       " 'import networkx as nx',\n",
       " 'import time',\n",
       " 'import matplotlib.pyplot as plt',\n",
       " 'import random',\n",
       " 'import copy',\n",
       " 'from networkx.drawing.nx_pydot import graphviz_layout',\n",
       " 'from . import networkx_utils as xu',\n",
       " 'from . import tqdm_utils as tqu',\n",
       " 'from . import numpy_utils as nu']"
      ]
     },
     "execution_count": 38,
     "metadata": {},
     "output_type": "execute_result"
    }
   ],
   "source": [
    "modules_used = modu.find_import_modules_in_file(\n",
    "    filename=filepath,\n",
    "    pattern = pattern_import,\n",
    "    verbose = verbose,\n",
    "    unique = True\n",
    ")\n",
    "modules_used"
   ]
  },
  {
   "cell_type": "markdown",
   "metadata": {},
   "source": [
    "# 2) Divide modules into referenced outside of package and those not"
   ]
  },
  {
   "cell_type": "code",
   "execution_count": null,
   "metadata": {},
   "outputs": [],
   "source": [
    "modules_directory = [\n",
    "    \"/meshAfterParty/meshAfterParty/\",\n",
    "    \"/python_tools/python_tools/\",\n",
    "    \"/graph_tools/graph_tools/\",\n",
    "    \"/neuron_morphology_tools/neuron_morphology_tools/\",\n",
    "    \"/pytorch_tools/pytorch_tools/\",\n",
    "]\n",
    "\n",
    "\n",
    "#modu.prefix_module_imports_in_files"
   ]
  },
  {
   "cell_type": "code",
   "execution_count": 37,
   "metadata": {},
   "outputs": [
    {
     "name": "stdout",
     "output_type": "stream",
     "text": [
      "# of modules = 36\n",
      "import_str = (?:\\A|\\n)((?:import [a-zA-Z._]+ as [a-zA-Z._]+)|(?:from [a-zA-Z._]+ import [a-zA-Z._]+ as [a-zA-Z._]+)|(?:import [a-zA-Z._]+)|(?:from [a-zA-Z._]+ import [a-zA-Z._]+))\n",
      "# of matches (unique = False) = 21\n"
     ]
    },
    {
     "data": {
      "text/plain": [
       "['from . import general_utils as gu',\n",
       " 'from . import numpy_utils as nu',\n",
       " 'from . import pandas_utils as pu',\n",
       " 'from . import regex_utils as ru',\n",
       " 'from . import string_utils as stru',\n",
       " 'from . import tqdm_utils as tqu',\n",
       " 'from .tqdm_utils import tqdm',\n",
       " 'from copy import deepcopy',\n",
       " 'from networkx.classes.function import path_weight as pw',\n",
       " 'from networkx.drawing.nx_pydot import graphviz_layout',\n",
       " 'import copy',\n",
       " 'import itertools',\n",
       " 'import matplotlib.pyplot as plt',\n",
       " 'import networkx as nx',\n",
       " 'import networkx.classes.function as cls_func',\n",
       " 'import numpy as np',\n",
       " 'import pandas as pd',\n",
       " 'import pydot',\n",
       " 'import random',\n",
       " 'import time',\n",
       " 'from . import networkx_utils as xu']"
      ]
     },
     "execution_count": 37,
     "metadata": {},
     "output_type": "execute_result"
    }
   ],
   "source": [
    "directory = \"/python_tools/python_tools/\"\n",
    "\n",
    "modules = modu.modules_from_directory(\n",
    "    directory = directory,\n",
    "    verbose = verbose\n",
    ")\n",
    "\n",
    "pattern_import = modu.import_pattern_str(\n",
    "    #modules = modules,\n",
    "    verbose = verbose\n",
    ")\n",
    "py_tools_imports = modu.find_import_modules_in_file(\n",
    "    filename=filepath,\n",
    "    pattern = pattern_import,\n",
    "    verbose = verbose,\n",
    "    unique = False\n",
    ")\n",
    "py_tools_imports"
   ]
  },
  {
   "cell_type": "code",
   "execution_count": null,
   "metadata": {},
   "outputs": [],
   "source": []
  },
  {
   "cell_type": "markdown",
   "metadata": {},
   "source": [
    "# 3) Get all the member variables"
   ]
  },
  {
   "cell_type": "code",
   "execution_count": 12,
   "metadata": {},
   "outputs": [
    {
     "name": "stdout",
     "output_type": "stream",
     "text": [
      "# of global variables = 3\n"
     ]
    },
    {
     "data": {
      "text/plain": [
       "['downstream_name', 'node_id_default', 'upstream_name']"
      ]
     },
     "execution_count": 12,
     "metadata": {},
     "output_type": "execute_result"
    }
   ],
   "source": [
    "from python_tools import networkx_utils as xu\n",
    "iu.global_vars(xu,verbose = True)"
   ]
  },
  {
   "cell_type": "code",
   "execution_count": null,
   "metadata": {},
   "outputs": [],
   "source": [
    "\"\"\"\n",
    "Can we detect member variables without the module? no not necessarily\n",
    "\"\"\""
   ]
  },
  {
   "cell_type": "markdown",
   "metadata": {},
   "source": [
    "# 4) Get all docstrings"
   ]
  },
  {
   "cell_type": "code",
   "execution_count": 6,
   "metadata": {},
   "outputs": [
    {
     "name": "stdout",
     "output_type": "stream",
     "text": [
      "# of multi-line strings = 3\n"
     ]
    }
   ],
   "source": [
    "multi_line_comm = modu.multiline_str(\n",
    "    filepath = filepath,\n",
    "    verbose = verbose,\n",
    "    return_text = True\n",
    ")"
   ]
  },
  {
   "cell_type": "code",
   "execution_count": null,
   "metadata": {},
   "outputs": [],
   "source": []
  }
 ],
 "metadata": {
  "kernelspec": {
   "display_name": "Python 3",
   "language": "python",
   "name": "python3"
  },
  "language_info": {
   "codemirror_mode": {
    "name": "ipython",
    "version": 3
   },
   "file_extension": ".py",
   "mimetype": "text/x-python",
   "name": "python",
   "nbconvert_exporter": "python",
   "pygments_lexer": "ipython3",
   "version": "3.6.9"
  }
 },
 "nbformat": 4,
 "nbformat_minor": 4
}
