{
 "cells": [
  {
   "cell_type": "code",
   "execution_count": 1,
   "metadata": {},
   "outputs": [
    {
     "data": {
      "text/plain": [
       "'\\nPurpose: To test and make sure all of the imports work\\n'"
      ]
     },
     "execution_count": 1,
     "metadata": {},
     "output_type": "execute_result"
    }
   ],
   "source": [
    "\"\"\"\n",
    "Purpose: To test and make sure all of the imports work\n",
    "\"\"\""
   ]
  },
  {
   "cell_type": "code",
   "execution_count": 2,
   "metadata": {},
   "outputs": [],
   "source": [
    "module_locations = \"../python_tools/\""
   ]
  },
  {
   "cell_type": "code",
   "execution_count": 3,
   "metadata": {},
   "outputs": [],
   "source": [
    "from os import sys\n",
    "sys.path.append(module_locations)"
   ]
  },
  {
   "cell_type": "code",
   "execution_count": 4,
   "metadata": {},
   "outputs": [
    {
     "data": {
      "text/plain": [
       "['linalg_utils',\n",
       " 'json_utils',\n",
       " 'pretty_print_confusion_matrix',\n",
       " 'tqdm_utils',\n",
       " 'data_struct_utils',\n",
       " 'algorithms_utils',\n",
       " 'filtering_utils',\n",
       " 'regex_utils',\n",
       " 'general_utils',\n",
       " 'pandas_utils',\n",
       " 'dict_utils',\n",
       " 'string_utils',\n",
       " 'statistics_visualizations',\n",
       " 'hash_utils',\n",
       " 'pathlib_utils',\n",
       " 'system_utils',\n",
       " 'scipy_utils',\n",
       " 'numpy_utils',\n",
       " 'statistics_utils',\n",
       " 'matplotlib_utils',\n",
       " 'networkx_utils']"
      ]
     },
     "execution_count": 4,
     "metadata": {},
     "output_type": "execute_result"
    }
   ],
   "source": [
    "from pathlib import Path\n",
    "p = Path(module_locations)\n",
    "module_names = [k.stem for k in p.iterdir() if k.suffix == \".py\"]\n",
    "module_names"
   ]
  },
  {
   "cell_type": "code",
   "execution_count": 5,
   "metadata": {},
   "outputs": [],
   "source": [
    "for m in module_names:\n",
    "    exec(f\"import {m}\")"
   ]
  },
  {
   "cell_type": "code",
   "execution_count": null,
   "metadata": {},
   "outputs": [],
   "source": []
  }
 ],
 "metadata": {
  "kernelspec": {
   "display_name": "Python 3",
   "language": "python",
   "name": "python3"
  },
  "language_info": {
   "codemirror_mode": {
    "name": "ipython",
    "version": 3
   },
   "file_extension": ".py",
   "mimetype": "text/x-python",
   "name": "python",
   "nbconvert_exporter": "python",
   "pygments_lexer": "ipython3",
   "version": "3.6.9"
  }
 },
 "nbformat": 4,
 "nbformat_minor": 4
}
