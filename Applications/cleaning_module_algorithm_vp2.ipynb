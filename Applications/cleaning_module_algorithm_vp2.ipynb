{
 "cells": [
  {
   "cell_type": "code",
   "execution_count": 1,
   "metadata": {},
   "outputs": [],
   "source": [
    "%load_ext autoreload\n",
    "%autoreload 2"
   ]
  },
  {
   "cell_type": "code",
   "execution_count": 4,
   "metadata": {},
   "outputs": [],
   "source": [
    "from python_tools import module_utils as modu"
   ]
  },
  {
   "cell_type": "markdown",
   "metadata": {},
   "source": [
    "# Cleaning single module"
   ]
  },
  {
   "cell_type": "code",
   "execution_count": 64,
   "metadata": {
    "scrolled": true
   },
   "outputs": [
    {
     "name": "stdout",
     "output_type": "stream",
     "text": [
      "output_path = /pytorch_tools/pytorch_tools/train_test_geometric_utils_replaced.py\n",
      "curr_mod = train_test_geometric_utils, curr_package_name = pytorch_tools\n",
      "\n",
      "\n",
      "--- working on package: python_tools ---\n",
      "-- easy initial replacement --\n",
      "# of substitutions = 2\n",
      "  --> output_filepath = /pytorch_tools/pytorch_tools/train_test_geometric_utils_replaced.py\n",
      "-- harder initial replacement --\n",
      "# of substitutions = 0\n",
      "  --> output_filepath = /pytorch_tools/pytorch_tools/train_test_geometric_utils_replaced.py\n",
      "\n",
      "\n",
      "--- working on package: machine_learning_tools ---\n",
      "-- easy initial replacement --\n",
      "# of substitutions = 0\n",
      "  --> output_filepath = /pytorch_tools/pytorch_tools/train_test_geometric_utils_replaced.py\n",
      "-- harder initial replacement --\n",
      "# of substitutions = 0\n",
      "  --> output_filepath = /pytorch_tools/pytorch_tools/train_test_geometric_utils_replaced.py\n",
      "\n",
      "\n",
      "--- working on package: pytorch_tools ---\n",
      "-- easy initial replacement --\n",
      "# of substitutions = 5\n",
      "  --> output_filepath = /pytorch_tools/pytorch_tools/train_test_geometric_utils_replaced.py\n",
      "-- harder initial replacement --\n",
      "# of substitutions = 0\n",
      "  --> output_filepath = /pytorch_tools/pytorch_tools/train_test_geometric_utils_replaced.py\n",
      "-- easier relative replacement --\n",
      "# of substitutions = 5\n",
      "  --> output_filepath = /pytorch_tools/pytorch_tools/train_test_geometric_utils_replaced.py\n",
      "-- harder relative replacement --\n",
      "# of substitutions = 0\n",
      "  --> output_filepath = /pytorch_tools/pytorch_tools/train_test_geometric_utils_replaced.py\n",
      "\n",
      "\n",
      "--- working on package: graph_tools ---\n",
      "-- easy initial replacement --\n",
      "# of substitutions = 0\n",
      "  --> output_filepath = /pytorch_tools/pytorch_tools/train_test_geometric_utils_replaced.py\n",
      "-- harder initial replacement --\n",
      "# of substitutions = 0\n",
      "  --> output_filepath = /pytorch_tools/pytorch_tools/train_test_geometric_utils_replaced.py\n",
      "\n",
      "\n",
      "--- working on package: meshAfterParty ---\n",
      "-- easy initial replacement --\n",
      "# of substitutions = 0\n",
      "  --> output_filepath = /pytorch_tools/pytorch_tools/train_test_geometric_utils_replaced.py\n",
      "-- harder initial replacement --\n",
      "# of substitutions = 0\n",
      "  --> output_filepath = /pytorch_tools/pytorch_tools/train_test_geometric_utils_replaced.py\n",
      "\n",
      "\n",
      "--- working on package: neuron_morphology_tools ---\n",
      "-- easy initial replacement --\n",
      "# of substitutions = 0\n",
      "  --> output_filepath = /pytorch_tools/pytorch_tools/train_test_geometric_utils_replaced.py\n",
      "-- harder initial replacement --\n",
      "# of substitutions = 0\n",
      "  --> output_filepath = /pytorch_tools/pytorch_tools/train_test_geometric_utils_replaced.py\n",
      "# of multi-line strings = 1\n",
      "# of matches (unique = True) = 11\n",
      "# of modules replaced = 11\n",
      "import numpy as np\n",
      "import pandas as pd\n",
      "import torch\n",
      "import torch.nn.functional as F\n",
      "\n",
      "\n",
      "--- from pytorch_tools ---\n",
      "from . import data_augmentation_utils as dau\n",
      "from . import evaluation_utils as evu\n",
      "from . import parameters_utils as paru\n",
      "from . import tensor_utils as tenu\n",
      "\n",
      "--- from python_tools ---\n",
      "from python_tools import general_utils as gu\n",
      "from python_tools import pandas_utils as pu\n",
      "\n",
      "\n",
      "from . import train_test_geometric_utils as ttu\n"
     ]
    }
   ],
   "source": [
    "filepath = \"/pytorch_tools/pytorch_tools/train_test_geometric_utils.py\"\n",
    "modu.clean_module_syntax(\n",
    "    filepath = filepath,\n",
    "    verbose = True\n",
    ")    "
   ]
  },
  {
   "cell_type": "code",
   "execution_count": 60,
   "metadata": {},
   "outputs": [],
   "source": [
    "from python_tools import file_utils as filu\n",
    "import regex as re\n",
    "\n",
    "#filepath = \"/pytorch_tools/pytorch_tools/data_augmentation_utils_replaced.py\"\n",
    "filepath = \"/pytorch_tools/pytorch_tools/example_file.py\"\n",
    "data = filu.read_file(filepath)\n",
    "data += \"\\nimport numpy as np.he\"\n",
    "pattern = fr\"(?:\\A|\\n)(from . import data_augmentation_utils as dau|from . import geometric_dataset_utils as gdu|from . import tensor_utils as tenu|from copy import deepcopy|from python_tools import numpy_utils as nu|import numpy as np|import time|import torch|import torch.nn as nn|import torch.nn.functional as F|import torch_geometric as tg)(\\s|$|\\n|#)\"\n",
    "pattern = fr\"(?:\\A|\\n)(from copy import deepcopy|import numpy as np|hello)(\\s|$|\\n|#)\"\n",
    "pattern = fr\"(?:\\A|\\n)(from copy import deepcopy|import numpy as np|hello)(?![0-9a-zA-z _\\.\\-:]+)\"\n",
    "all_found = re.findall(pattern,string=data)"
   ]
  },
  {
   "cell_type": "code",
   "execution_count": 61,
   "metadata": {},
   "outputs": [
    {
     "data": {
      "text/plain": [
       "['from copy import deepcopy', 'import numpy as np']"
      ]
     },
     "execution_count": 61,
     "metadata": {},
     "output_type": "execute_result"
    }
   ],
   "source": [
    "all_found"
   ]
  },
  {
   "cell_type": "code",
   "execution_count": null,
   "metadata": {},
   "outputs": [],
   "source": []
  },
  {
   "cell_type": "code",
   "execution_count": null,
   "metadata": {},
   "outputs": [],
   "source": [
    "\"\"\"\n",
    "Have to make sure the import module.(other_module) not get affected\n",
    "\"\"\""
   ]
  },
  {
   "cell_type": "markdown",
   "metadata": {},
   "source": [
    "# Cleaning all modules"
   ]
  },
  {
   "cell_type": "code",
   "execution_count": 9,
   "metadata": {},
   "outputs": [
    {
     "data": {
      "text/plain": [
       "['filtering_utils',\n",
       " 'json_utils',\n",
       " 'matplotlib_utils',\n",
       " 'system_utils_replaced',\n",
       " 'statistics_visualizations',\n",
       " 'requirement_utils',\n",
       " 'networkx_utils',\n",
       " 'pretty_print_confusion_matrix',\n",
       " 'numpy_utils',\n",
       " 'ipyvolume_movie_utils',\n",
       " 'dict_utils',\n",
       " 'regex_utils',\n",
       " 'hash_utils',\n",
       " 'inspect_utils',\n",
       " 'statistics_utils',\n",
       " 'general_utils',\n",
       " 'string_utils',\n",
       " 'algorithms_utils',\n",
       " 'ipyvolume_utils',\n",
       " 'pandas_utils',\n",
       " 'pathlib_utils',\n",
       " 'system_utils',\n",
       " 'package_utils',\n",
       " 'scipy_utils',\n",
       " 'seaborn_utils',\n",
       " 'matlab_utils',\n",
       " 'argparse_utils',\n",
       " 'module_utils',\n",
       " 'function_utils',\n",
       " 'networkx_utils_replaced',\n",
       " 'file_utils',\n",
       " 'data_struct_utils',\n",
       " 'linalg_utils',\n",
       " 'widget_utils',\n",
       " 'dj_utils',\n",
       " 'example_re',\n",
       " 'tqdm_utils',\n",
       " 'mesh_utils']"
      ]
     },
     "execution_count": 9,
     "metadata": {},
     "output_type": "execute_result"
    }
   ],
   "source": [
    "directory = [\n",
    "    \"/python_tools/python_tools/\",\n",
    "]\n",
    "overwrite= True\n",
    "\n",
    "for curr_directory in directory:\n",
    "\n",
    "    modules = modu.modules_from_directory(curr_directory)\n",
    "\n",
    "    for mod in modules:\n",
    "        filepath = Path(mod) / (f\"{mod}.py\")\n",
    "\n",
    "        modu.clean_module_syntax(\n",
    "            filepath = filepath,\n",
    "            verbose = True,\n",
    "            overwrite=overwrite\n",
    "        )    "
   ]
  },
  {
   "cell_type": "code",
   "execution_count": null,
   "metadata": {},
   "outputs": [],
   "source": []
  }
 ],
 "metadata": {
  "kernelspec": {
   "display_name": "Python 3",
   "language": "python",
   "name": "python3"
  },
  "language_info": {
   "codemirror_mode": {
    "name": "ipython",
    "version": 3
   },
   "file_extension": ".py",
   "mimetype": "text/x-python",
   "name": "python",
   "nbconvert_exporter": "python",
   "pygments_lexer": "ipython3",
   "version": "3.6.9"
  }
 },
 "nbformat": 4,
 "nbformat_minor": 4
}
