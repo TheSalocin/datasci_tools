{
  "cells": [
    {
      "cell_type": "code",
      "execution_count": 1,
      "metadata": {},
      "outputs": [
        {
          "data": {
            "text/plain": [
              "'\\nPurpose: To demonstrate how ipyvolume can be used to visualize skeletons\\nand used for selection\\n'"
            ]
          },
          "execution_count": 1,
          "metadata": {},
          "output_type": "execute_result"
        }
      ],
      "source": [
        "\"\"\"\n",
        "Purpose: To demonstrate how ipyvolume can be used to visualize skeletons\n",
        "and used for selection\n",
        "\"\"\""
      ]
    },
    {
      "cell_type": "code",
      "execution_count": 2,
      "metadata": {},
      "outputs": [],
      "source": [
        "import ipywidgets as widgets\n",
        "from . import numpy_dep as np\n",
        "import ipyvolume as ipv\n",
        "from IPython.display import display,clear_output"
      ]
    },
    {
      "cell_type": "code",
      "execution_count": 3,
      "metadata": {},
      "outputs": [],
      "source": [
        "from os import sys\n",
        "sys.path.append(\"../../datasci_tools/\")"
      ]
    },
    {
      "cell_type": "code",
      "execution_count": 8,
      "metadata": {},
      "outputs": [],
      "source": [
        "import ipyvolume_utils as ipvu"
      ]
    },
    {
      "cell_type": "markdown",
      "metadata": {},
      "source": [
        "# Skeleton Import "
      ]
    },
    {
      "cell_type": "code",
      "execution_count": 7,
      "metadata": {},
      "outputs": [],
      "source": [
        "vertices = np.array([\n",
        "    [0,0,0],\n",
        "    [0,0,1],\n",
        "    [0,1,1],\n",
        "    [1,2,0.5],\n",
        "])\n",
        "\n",
        "edges = np.array([\n",
        "    [0,1],\n",
        "    [1,2],\n",
        "    [2,3],\n",
        "    [3,1],\n",
        "    [3,0],\n",
        "])\n"
      ]
    },
    {
      "cell_type": "markdown",
      "metadata": {},
      "source": [
        "# Plotting "
      ]
    },
    {
      "cell_type": "code",
      "execution_count": 9,
      "metadata": {},
      "outputs": [
        {
          "data": {
            "application/vnd.jupyter.widget-view+json": {
              "model_id": "a858ce02d4ba49fdb54c3a65923c8885",
              "version_major": 2,
              "version_minor": 0
            },
            "text/plain": [
              "Output()"
            ]
          },
          "metadata": {},
          "output_type": "display_data"
        },
        {
          "data": {
            "application/vnd.jupyter.widget-view+json": {
              "model_id": "3489024f58504bff98522380b788d26d",
              "version_major": 2,
              "version_minor": 0
            },
            "text/plain": [
              "VBox(children=(Figure(camera=PerspectiveCamera(fov=46.0, position=(0.0, 0.0, 2.0), projectionMatrix=(1.0, 0.0,…"
            ]
          },
          "metadata": {},
          "output_type": "display_data"
        }
      ],
      "source": [
        "ipv.clear()\n",
        "ipv.figure()\n",
        "ipv.plot_trisurf(\n",
        "    vertices[:,0], \n",
        "    vertices[:,1], \n",
        "    vertices[:,2], \n",
        "    lines=edges\n",
        ")\n",
        "\n",
        "scat = ipv.scatter(\n",
        "    vertices[:,0], \n",
        "    vertices[:,1], \n",
        "    vertices[:,2], \n",
        "    size_selected = 10,\n",
        "    marker = \"sphere\",color = \"green\"\n",
        ")\n",
        "\n",
        "ipv.selector_default()\n",
        "ipv.show()"
      ]
    },
    {
      "cell_type": "markdown",
      "metadata": {},
      "source": [
        "# How to select"
      ]
    },
    {
      "cell_type": "code",
      "execution_count": 10,
      "metadata": {},
      "outputs": [
        {
          "name": "stdout",
          "output_type": "stream",
          "text": [
            "\n",
            "    Ipyvolume Cheat sheet: \n",
            "\n",
            "    1) Alt + Click and Hold: Can drag object\n",
            "    2) Pinch: zoom in and Out\n",
            "    3) Magnifying glass on + pinch: Zoom in and Out on place mouse hovering\n",
            "    4) Double click and move mouse: rotate object\n",
            "    5) gear icon: different resolutions\n",
            "    6) Shift + Picture: Copies screenshot to clipboard\n",
            "    \n",
            "\n",
            "    Now hold the CTRL key to do selections, type\n",
            "\n",
            "    ‘C’ for circle\n",
            "    ‘R’ for rectangle\n",
            "    ‘L’ for lasso\n",
            "    ‘=’ for replace mode\n",
            "    ‘&’ for logically and mode\n",
            "    ‘|’ for logically or mode\n",
            "    ‘-’ for subtract mode\n",
            "    \n"
          ]
        }
      ],
      "source": [
        "ipvu.print_ipv_cheatsheet()\n",
        "ipvu.print_selection_hotkeys()\n"
      ]
    },
    {
      "cell_type": "markdown",
      "metadata": {},
      "source": [
        "# After selecting how to print the selected"
      ]
    },
    {
      "cell_type": "code",
      "execution_count": 13,
      "metadata": {},
      "outputs": [
        {
          "name": "stdout",
          "output_type": "stream",
          "text": [
            "idx selected = [3]\n"
          ]
        }
      ],
      "source": [
        "if scat.selected is None:\n",
        "    idx = []\n",
        "else:\n",
        "    idx = scat.selected[0]\n",
        "\n",
        "print(f\"idx selected = {idx}\")"
      ]
    },
    {
      "cell_type": "markdown",
      "metadata": {},
      "source": [
        "# Used with widgets"
      ]
    },
    {
      "cell_type": "code",
      "execution_count": 14,
      "metadata": {},
      "outputs": [
        {
          "data": {
            "application/vnd.jupyter.widget-view+json": {
              "model_id": "0496a23657fb468b88320f6c9d49591f",
              "version_major": 2,
              "version_minor": 0
            },
            "text/plain": [
              "VBox(children=(Button(description='Check Selection', style=ButtonStyle()), Button(description='Clear Selection…"
            ]
          },
          "metadata": {},
          "output_type": "display_data"
        }
      ],
      "source": [
        "positive_clear = widgets.Button(description=\"Clear Selection\")\n",
        "positive_idx_check =  widgets.Button(description=\"Check Selection\")\n",
        "positive_out = widgets.Output()\n",
        "\n",
        "@positive_out.capture(clear_output=True,wait = True)\n",
        "def positive_clear_selection_handler(obj):\n",
        "    scat.selected = None\n",
        "    print(f\"All Scatters Cleared\")\n",
        "    \n",
        "@positive_out.capture(clear_output=True,wait = True)\n",
        "def printed_selected_vert_idx(obj):\n",
        "    if scat.selected is None:\n",
        "        idx = []\n",
        "    else:\n",
        "        idx = scat.selected[0]\n",
        "    print(f\"idx selected = {idx}\")\n",
        "    \n",
        "positive_clear.on_click(positive_clear_selection_handler)\n",
        "positive_idx_check.on_click(printed_selected_vert_idx)\n",
        "\n",
        "widget_cont = widgets.VBox(    \n",
        "    [\n",
        "    positive_idx_check,\n",
        "    positive_clear,\n",
        "    positive_out\n",
        "    ]\n",
        ")\n",
        "\n",
        "widget_cont"
      ]
    },
    {
      "cell_type": "code",
      "execution_count": null,
      "metadata": {},
      "outputs": [],
      "source": []
    }
  ],
  "metadata": {
    "kernelspec": {
      "display_name": "Python 3",
      "language": "python",
      "name": "python3"
    },
    "language_info": {
      "codemirror_mode": {
        "name": "ipython",
        "version": 3
      },
      "file_extension": ".py",
      "mimetype": "text/x-python",
      "name": "python",
      "nbconvert_exporter": "python",
      "pygments_lexer": "ipython3",
      "version": "3.6.9"
    }
  },
  "nbformat": 4,
  "nbformat_minor": 4
}
