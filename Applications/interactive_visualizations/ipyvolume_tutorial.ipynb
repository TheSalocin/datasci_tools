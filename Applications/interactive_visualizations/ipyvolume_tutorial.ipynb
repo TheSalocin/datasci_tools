{
 "cells": [
  {
   "cell_type": "code",
   "execution_count": null,
   "metadata": {},
   "outputs": [],
   "source": [
    "\"\"\"\n",
    "Purpose: To practice the scipy 2018 demo of ipyvolume\n",
    "\n",
    "Interactive 3D Visualization in Jupyter | SciPy 2018 | Maarten Breddels: https://www.youtube.com/watch?v=hOKa8klJPyo\n",
    "\"\"\""
   ]
  },
  {
   "cell_type": "code",
   "execution_count": 1,
   "metadata": {},
   "outputs": [],
   "source": [
    "%load_ext autoreload\n",
    "%autoreload 2"
   ]
  },
  {
   "cell_type": "code",
   "execution_count": 2,
   "metadata": {},
   "outputs": [],
   "source": [
    "from os import sys\n",
    "sys.path.append(\"../../python_tools/\")"
   ]
  },
  {
   "cell_type": "code",
   "execution_count": null,
   "metadata": {},
   "outputs": [],
   "source": []
  },
  {
   "cell_type": "markdown",
   "metadata": {},
   "source": [
    "# 1) Simple Expected API"
   ]
  },
  {
   "cell_type": "code",
   "execution_count": 5,
   "metadata": {},
   "outputs": [],
   "source": [
    "import ipyvolume as ipv\n",
    "import numpy as np\n",
    "import ipyvolume_utils as ipvu"
   ]
  },
  {
   "cell_type": "code",
   "execution_count": null,
   "metadata": {},
   "outputs": [],
   "source": [
    "N = 1000\n",
    "x,y,z = np.random.normal(0,1,(3,N))"
   ]
  },
  {
   "cell_type": "code",
   "execution_count": null,
   "metadata": {},
   "outputs": [],
   "source": [
    "fig = ipv.figure()\n",
    "scatter = ipv.scatter(x,y,z,marker = \"sphere\")\n",
    "ipv.show()"
   ]
  },
  {
   "cell_type": "code",
   "execution_count": null,
   "metadata": {},
   "outputs": [],
   "source": [
    "# --- can change the qualities of the scatter plot\n",
    "scatter.geo = \"box\""
   ]
  },
  {
   "cell_type": "code",
   "execution_count": null,
   "metadata": {},
   "outputs": [],
   "source": [
    "# can anomate using tranlsations\n",
    "scatter.x = x + 2"
   ]
  },
  {
   "cell_type": "code",
   "execution_count": null,
   "metadata": {},
   "outputs": [],
   "source": [
    "# can save the image to an \n",
    "ipv.save(\"example.html\")\n",
    "!open example.html"
   ]
  },
  {
   "cell_type": "markdown",
   "metadata": {},
   "source": [
    "# 2) Linking Properties of Ipyvolume to ipywidgets"
   ]
  },
  {
   "cell_type": "code",
   "execution_count": null,
   "metadata": {},
   "outputs": [],
   "source": [
    "import ipywidgets as widgets"
   ]
  },
  {
   "cell_type": "code",
   "execution_count": null,
   "metadata": {},
   "outputs": [],
   "source": [
    "scatter.geo = \"diamond\""
   ]
  },
  {
   "cell_type": "code",
   "execution_count": null,
   "metadata": {
    "scrolled": true
   },
   "outputs": [],
   "source": [
    "ipv.show()"
   ]
  },
  {
   "cell_type": "code",
   "execution_count": null,
   "metadata": {},
   "outputs": [],
   "source": [
    "w = widgets.ToggleButtons(options = [\"sphere\",\"box\",\"diamond\",\"circle_2d\",\"point_2d\",\"arow\"])\n",
    "widgets.link((scatter,\"geo\"),(w,\"value\"))\n",
    "w"
   ]
  },
  {
   "cell_type": "code",
   "execution_count": null,
   "metadata": {},
   "outputs": [],
   "source": [
    "slider = widgets.FloatSlider(min = 0.0, max = 10, step = 0.1)\n",
    "widgets.link((scatter,\"size\"),(slider,\"value\"))\n",
    "slider"
   ]
  },
  {
   "cell_type": "code",
   "execution_count": null,
   "metadata": {},
   "outputs": [],
   "source": [
    "import ipyvolume_utils as ipvu\n",
    "ipvu.example_widgets_linked_to_attributes()"
   ]
  },
  {
   "cell_type": "markdown",
   "metadata": {},
   "source": [
    "# 3) Quiver Plot"
   ]
  },
  {
   "cell_type": "code",
   "execution_count": null,
   "metadata": {},
   "outputs": [],
   "source": [
    "N = 1000\n",
    "x,y,z = np.random.normal(0,1,(3,N))\n",
    "\n",
    "fig = ipv.figure()\n",
    "quiver = ipv.quiver(x,y,z,x,y,z)\n",
    "\n",
    "ipv.show()"
   ]
  },
  {
   "cell_type": "code",
   "execution_count": null,
   "metadata": {},
   "outputs": [],
   "source": [
    "flip_button = widgets.Button(\n",
    "    description = (\"Flip Arrows\")\n",
    ")\n",
    "\n",
    "def flip_arrows_func(key):\n",
    "    quiver.vx = -quiver.vx\n",
    "    quiver.vy = quiver.vy\n",
    "    quiver.vz = -quiver.vz\n",
    "    \n",
    "flip_button.on_click(flip_arrows_func)\n",
    "display(flip_button)"
   ]
  },
  {
   "cell_type": "code",
   "execution_count": null,
   "metadata": {},
   "outputs": [],
   "source": [
    "cp = widgets.ColorPicker(description = \"Pick Color\")\n",
    "widgets.jsdlink((cp,\"value\"),(quiver,\"color\"))\n",
    "display(cp)"
   ]
  },
  {
   "cell_type": "code",
   "execution_count": null,
   "metadata": {},
   "outputs": [],
   "source": [
    "ipvu.example_quiver_plot_and_attributes()"
   ]
  },
  {
   "cell_type": "markdown",
   "metadata": {},
   "source": [
    "# 4) Meshes"
   ]
  },
  {
   "cell_type": "code",
   "execution_count": null,
   "metadata": {},
   "outputs": [],
   "source": [
    "s = 1/2**0.5\n",
    "vertices = np.array([[1,0,-s],\n",
    "             [-1,0,-s],\n",
    "             [0,1,s],\n",
    "             [0,-1,s]])\n",
    "triangles = np.array([[0,1,2],\n",
    "                     [0,1,3],\n",
    "                     [0,2,3],\n",
    "            z         [1,3,2]])\n",
    "x,y,z = vertices.T\n",
    "\n",
    "ipv.figure()\n",
    "ipv.plot_trisurf(x,y,z,triangles = triangles,color = \"orange\")\n",
    "ipv.scatter(x,y,z,marker=\"sphere\",color = \"blue\")\n",
    "ipv.xyzlim(-2,2)\n",
    "ipv.show()"
   ]
  },
  {
   "cell_type": "markdown",
   "metadata": {},
   "source": [
    "# 4b) Plotting Line Segments (which are just meshes with edges)"
   ]
  },
  {
   "cell_type": "code",
   "execution_count": null,
   "metadata": {},
   "outputs": [],
   "source": [
    "ipvu.example_plot_line_segments()"
   ]
  },
  {
   "cell_type": "markdown",
   "metadata": {},
   "source": [
    "# 5) Surface Plot"
   ]
  },
  {
   "cell_type": "code",
   "execution_count": null,
   "metadata": {},
   "outputs": [],
   "source": [
    "a = np.linspace(-5,5,30)\n",
    "X,Y = np.meshgrid(a,a)\n",
    "\n",
    "Z = X*Y**2\n",
    "\n",
    "ipv.figure()\n",
    "mesh = ipv.plot_surface(X,Y,Z, color = \"orange\")\n",
    "ipv.show()\n",
    "\n",
    "alter_button = widgets.Button(description=\"alter_surface\")\n",
    "\n",
    "def alter_func(data):\n",
    "    mesh.y = -mesh.y\n",
    "    mesh.x = mesh.x + 1.4\n",
    "    mesh.color = \"green\"\n",
    "    \n",
    "alter_button.on_click(alter_func)\n",
    "display(alter_button)"
   ]
  },
  {
   "cell_type": "code",
   "execution_count": null,
   "metadata": {},
   "outputs": [],
   "source": [
    "ipvu.example_surface_not_mesh()"
   ]
  },
  {
   "cell_type": "markdown",
   "metadata": {},
   "source": [
    "# 6)Line Plots"
   ]
  },
  {
   "cell_type": "code",
   "execution_count": null,
   "metadata": {},
   "outputs": [],
   "source": [
    "fig = ipv.figure()\n",
    "u = np.linspace(0,1,4000)\n",
    "r = 1 + 0.3*np.sin(u*np.pi*4)\n",
    "x = np.sin(u*2*np.pi*40) *r\n",
    "y = np.cos(u*2*np.pi*40) *r\n",
    "z = u\n",
    "line = ipv.plot(x,y,z)\n",
    "fig.camera.rotateY(1)\n",
    "ipv.show()\n",
    "\n",
    "change_line = widgets.Button(description=\"change line\")\n",
    "\n",
    "def change_line_func(info):\n",
    "    r = 1 + 1*np.sin(u*np.pi*3)\n",
    "    line.x = np.sin(u*2*np.pi*40) *r\n",
    "    line.y = np.cos(u*2*np.pi*40) *r\n",
    "    line.color = np.stack([u*0,u,u*0],1)\n",
    "    \n",
    "change_line.on_click(change_line_func)\n",
    "display(change_line)"
   ]
  },
  {
   "cell_type": "code",
   "execution_count": null,
   "metadata": {},
   "outputs": [],
   "source": [
    "ipvu.example_plot_line()"
   ]
  },
  {
   "cell_type": "markdown",
   "metadata": {},
   "source": [
    "# 7) Selection"
   ]
  },
  {
   "cell_type": "code",
   "execution_count": null,
   "metadata": {},
   "outputs": [],
   "source": [
    "fig = ipv.figure()\n",
    "scatter = ipv.scatter(x,y,z,marker = \"sphere\",color = \"green\")\n",
    "ipv.selector_default()\n",
    "out = widgets.Output()\n",
    "ipv.show()\n",
    "\n",
    "@out.capture(clear_output=True,wait = True)\n",
    "def print_info(*_):\n",
    "    indices = scatter.selected[0]\n",
    "    meanx = np.mean(scatter.x[indices])\n",
    "    print(f\"mean of x = {meanx}\")\n",
    "    \n",
    "display(out)\n",
    "scatter.observe(print_info,\"selected\")"
   ]
  },
  {
   "cell_type": "code",
   "execution_count": 22,
   "metadata": {},
   "outputs": [
    {
     "data": {
      "application/vnd.jupyter.widget-view+json": {
       "model_id": "3b7a4dc6a75f4d298a1d1c84fe4c6e61",
       "version_major": 2,
       "version_minor": 0
      },
      "text/plain": [
       "Output()"
      ]
     },
     "metadata": {},
     "output_type": "display_data"
    },
    {
     "data": {
      "application/vnd.jupyter.widget-view+json": {
       "model_id": "0e8602c476fd41d9b82f8b217633b05d",
       "version_major": 2,
       "version_minor": 0
      },
      "text/plain": [
       "VBox(children=(Figure(camera=PerspectiveCamera(fov=46.0, position=(0.0, 0.0, 2.0), projectionMatrix=(1.0, 0.0,…"
      ]
     },
     "metadata": {},
     "output_type": "display_data"
    },
    {
     "data": {
      "application/vnd.jupyter.widget-view+json": {
       "model_id": "c2d48440c56942df86b3c00510a91af1",
       "version_major": 2,
       "version_minor": 0
      },
      "text/plain": [
       "Output()"
      ]
     },
     "metadata": {},
     "output_type": "display_data"
    }
   ],
   "source": [
    "ipvu.example_selection()"
   ]
  },
  {
   "cell_type": "code",
   "execution_count": 18,
   "metadata": {},
   "outputs": [
    {
     "name": "stdout",
     "output_type": "stream",
     "text": [
      "\n",
      "    Now hold the control key to do selections, type\n",
      "\n",
      "    ‘C’ for circle\n",
      "    ‘R’ for rectangle\n",
      "    ‘L’ for lasso\n",
      "    ‘=’ for replace mode\n",
      "    ‘&’ for logically and mode\n",
      "    ‘|’ for logically or mode\n",
      "    ‘-’ for subtract mode\n",
      "    \n"
     ]
    }
   ],
   "source": [
    "ipvu.print_selection_hotkeys()"
   ]
  },
  {
   "cell_type": "markdown",
   "metadata": {},
   "source": [
    "# 8) Animated Stream"
   ]
  },
  {
   "cell_type": "code",
   "execution_count": null,
   "metadata": {},
   "outputs": [],
   "source": [
    "import ipywidgets as widgets\n",
    "data = ipv.datasets.animated_stream.fetch().data[...,::4]\n",
    "x,y,z,vx,vy,vz = data\n",
    "x.shape"
   ]
  },
  {
   "cell_type": "code",
   "execution_count": null,
   "metadata": {},
   "outputs": [],
   "source": [
    "fig = ipv.figure()\n",
    "ipv.style.use(\"dark\")\n",
    "quiver = ipv.quiver(x,y,z,vx,vy,vz,size = 5,)\n",
    "ipv.show()"
   ]
  },
  {
   "cell_type": "code",
   "execution_count": null,
   "metadata": {},
   "outputs": [],
   "source": [
    "quiver.sequence_index = 4"
   ]
  },
  {
   "cell_type": "code",
   "execution_count": null,
   "metadata": {},
   "outputs": [],
   "source": [
    "ipv.animation_control(quiver,interval = 400)"
   ]
  },
  {
   "cell_type": "code",
   "execution_count": null,
   "metadata": {},
   "outputs": [],
   "source": [
    "w = widgets.ToggleButtons(\n",
    "    options=['arrow','sphere','cat'],\n",
    "    value = \"sphere\")\n",
    "\n",
    "widgets.link((quiver,\"geo\"),(w,\"value\"))\n",
    "w"
   ]
  },
  {
   "cell_type": "code",
   "execution_count": null,
   "metadata": {},
   "outputs": [],
   "source": [
    "ipvu.example_animation_through_time()"
   ]
  },
  {
   "cell_type": "markdown",
   "metadata": {},
   "source": [
    "# 9) Making Movies"
   ]
  },
  {
   "cell_type": "code",
   "execution_count": null,
   "metadata": {},
   "outputs": [],
   "source": [
    "fig = ipv.gcf()\n",
    "fig"
   ]
  },
  {
   "cell_type": "code",
   "execution_count": null,
   "metadata": {},
   "outputs": [],
   "source": [
    "from ipyvolume.moviemaker import MovieMaker\n",
    "mm = MovieMaker(stream = fig,camera = fig.camera)\n",
    "mm.widget_main"
   ]
  },
  {
   "cell_type": "code",
   "execution_count": null,
   "metadata": {},
   "outputs": [],
   "source": [
    "ipvu.example_animation_through_time()"
   ]
  },
  {
   "cell_type": "code",
   "execution_count": 9,
   "metadata": {},
   "outputs": [
    {
     "data": {
      "application/vnd.jupyter.widget-view+json": {
       "model_id": "042e01efedfe40379b6cae9dd0b6d7bf",
       "version_major": 2,
       "version_minor": 0
      },
      "text/plain": [
       "VBox(children=(Figure(camera=PerspectiveCamera(fov=46.0, position=(0.0, 0.0, 2.0), projectionMatrix=(1.0, 0.0,…"
      ]
     },
     "metadata": {},
     "output_type": "display_data"
    },
    {
     "data": {
      "application/vnd.jupyter.widget-view+json": {
       "model_id": "de1f52f4143d4908967512b6614448ed",
       "version_major": 2,
       "version_minor": 0
      },
      "text/plain": [
       "ToggleButtons(options=('arrow', 'sphere', 'cat'), value='arrow')"
      ]
     },
     "metadata": {},
     "output_type": "display_data"
    },
    {
     "data": {
      "application/vnd.jupyter.widget-view+json": {
       "model_id": "5929c523496c433b90f5f12c47a2bf1f",
       "version_major": 2,
       "version_minor": 0
      },
      "text/plain": [
       "VBox(children=(ToggleButton(value=False, description='Record', icon='circle'), Dropdown(index=1, options=(('di…"
      ]
     },
     "metadata": {},
     "output_type": "display_data"
    }
   ],
   "source": [
    "ipvu.example_movie()"
   ]
  },
  {
   "cell_type": "code",
   "execution_count": 16,
   "metadata": {},
   "outputs": [
    {
     "data": {
      "application/vnd.jupyter.widget-view+json": {
       "model_id": "bc2a5fd175ba479e90f84e189593cd9a",
       "version_major": 2,
       "version_minor": 0
      },
      "text/plain": [
       "VBox(children=(Figure(camera=PerspectiveCamera(fov=46.0, position=(0.0, 0.0, 2.0), projectionMatrix=(1.0, 0.0,…"
      ]
     },
     "metadata": {},
     "output_type": "display_data"
    },
    {
     "data": {
      "application/vnd.jupyter.widget-view+json": {
       "model_id": "e30b75979616475a9fe1f2069213809c",
       "version_major": 2,
       "version_minor": 0
      },
      "text/plain": [
       "ToggleButtons(options=('arrow', 'sphere', 'cat'), value='arrow')"
      ]
     },
     "metadata": {},
     "output_type": "display_data"
    },
    {
     "data": {
      "application/vnd.jupyter.widget-view+json": {
       "model_id": "b87acaee0d5d4aab978357fad4996490",
       "version_major": 2,
       "version_minor": 0
      },
      "text/plain": [
       "VBox(children=(ToggleButton(value=False, description='Record', icon='circle'), Dropdown(index=1, options=(('di…"
      ]
     },
     "metadata": {},
     "output_type": "display_data"
    },
    {
     "data": {
      "application/vnd.jupyter.widget-view+json": {
       "model_id": "654c36b3b1d64e9cb0b5b0eb6c8e2df5",
       "version_major": 2,
       "version_minor": 0
      },
      "text/plain": [
       "VideoRecorder(filename='bc_example', stream=Figure(animation=400.0, camera=PerspectiveCamera(fov=46.0, positio…"
      ]
     },
     "metadata": {},
     "output_type": "display_data"
    }
   ],
   "source": [
    "ipvu.example_movie_recorded()"
   ]
  },
  {
   "cell_type": "code",
   "execution_count": null,
   "metadata": {},
   "outputs": [],
   "source": []
  }
 ],
 "metadata": {
  "kernelspec": {
   "display_name": "Python 3",
   "language": "python",
   "name": "python3"
  },
  "language_info": {
   "codemirror_mode": {
    "name": "ipython",
    "version": 3
   },
   "file_extension": ".py",
   "mimetype": "text/x-python",
   "name": "python",
   "nbconvert_exporter": "python",
   "pygments_lexer": "ipython3",
   "version": "3.6.9"
  }
 },
 "nbformat": 4,
 "nbformat_minor": 4
}
